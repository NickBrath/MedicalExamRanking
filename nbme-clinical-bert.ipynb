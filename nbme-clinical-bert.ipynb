{
 "cells": [
  {
   "cell_type": "code",
   "execution_count": 1,
   "id": "5b7d2cbe",
   "metadata": {
    "execution": {
     "iopub.execute_input": "2023-04-01T10:49:08.486196Z",
     "iopub.status.busy": "2023-04-01T10:49:08.484717Z",
     "iopub.status.idle": "2023-04-01T10:49:32.810141Z",
     "shell.execute_reply": "2023-04-01T10:49:32.809504Z",
     "shell.execute_reply.started": "2023-04-01T10:11:27.861446Z"
    },
    "papermill": {
     "duration": 24.366931,
     "end_time": "2023-04-01T10:49:32.810305",
     "exception": false,
     "start_time": "2023-04-01T10:49:08.443374",
     "status": "completed"
    },
    "tags": []
   },
   "outputs": [
    {
     "name": "stdout",
     "output_type": "stream",
     "text": [
      "Requirement already satisfied: transformers in /opt/conda/lib/python3.7/site-packages (4.16.2)\r\n",
      "Requirement already satisfied: tqdm>=4.27 in /opt/conda/lib/python3.7/site-packages (from transformers) (4.62.3)\r\n",
      "Requirement already satisfied: filelock in /opt/conda/lib/python3.7/site-packages (from transformers) (3.6.0)\r\n",
      "Requirement already satisfied: pyyaml>=5.1 in /opt/conda/lib/python3.7/site-packages (from transformers) (6.0)\r\n",
      "Requirement already satisfied: packaging>=20.0 in /opt/conda/lib/python3.7/site-packages (from transformers) (21.3)\r\n",
      "Requirement already satisfied: numpy>=1.17 in /opt/conda/lib/python3.7/site-packages (from transformers) (1.20.3)\r\n",
      "Requirement already satisfied: requests in /opt/conda/lib/python3.7/site-packages (from transformers) (2.26.0)\r\n",
      "Requirement already satisfied: tokenizers!=0.11.3,>=0.10.1 in /opt/conda/lib/python3.7/site-packages (from transformers) (0.11.6)\r\n",
      "Requirement already satisfied: importlib-metadata in /opt/conda/lib/python3.7/site-packages (from transformers) (4.11.3)\r\n",
      "Requirement already satisfied: regex!=2019.12.17 in /opt/conda/lib/python3.7/site-packages (from transformers) (2021.11.10)\r\n",
      "Requirement already satisfied: huggingface-hub<1.0,>=0.1.0 in /opt/conda/lib/python3.7/site-packages (from transformers) (0.4.0)\r\n",
      "Requirement already satisfied: sacremoses in /opt/conda/lib/python3.7/site-packages (from transformers) (0.0.49)\r\n",
      "Requirement already satisfied: typing-extensions>=3.7.4.3 in /opt/conda/lib/python3.7/site-packages (from huggingface-hub<1.0,>=0.1.0->transformers) (4.1.1)\r\n",
      "Requirement already satisfied: pyparsing!=3.0.5,>=2.0.2 in /opt/conda/lib/python3.7/site-packages (from packaging>=20.0->transformers) (3.0.6)\r\n",
      "Requirement already satisfied: zipp>=0.5 in /opt/conda/lib/python3.7/site-packages (from importlib-metadata->transformers) (3.6.0)\r\n",
      "Requirement already satisfied: charset-normalizer~=2.0.0 in /opt/conda/lib/python3.7/site-packages (from requests->transformers) (2.0.9)\r\n",
      "Requirement already satisfied: urllib3<1.27,>=1.21.1 in /opt/conda/lib/python3.7/site-packages (from requests->transformers) (1.26.7)\r\n",
      "Requirement already satisfied: certifi>=2017.4.17 in /opt/conda/lib/python3.7/site-packages (from requests->transformers) (2021.10.8)\r\n",
      "Requirement already satisfied: idna<4,>=2.5 in /opt/conda/lib/python3.7/site-packages (from requests->transformers) (3.1)\r\n",
      "Requirement already satisfied: joblib in /opt/conda/lib/python3.7/site-packages (from sacremoses->transformers) (1.1.0)\r\n",
      "Requirement already satisfied: six in /opt/conda/lib/python3.7/site-packages (from sacremoses->transformers) (1.16.0)\r\n",
      "Requirement already satisfied: click in /opt/conda/lib/python3.7/site-packages (from sacremoses->transformers) (8.0.3)\r\n",
      "\u001b[33mWARNING: Running pip as the 'root' user can result in broken permissions and conflicting behaviour with the system package manager. It is recommended to use a virtual environment instead: https://pip.pypa.io/warnings/venv\u001b[0m\r\n",
      "Requirement already satisfied: tensorflow_addons in /opt/conda/lib/python3.7/site-packages (0.14.0)\r\n",
      "Requirement already satisfied: typeguard>=2.7 in /opt/conda/lib/python3.7/site-packages (from tensorflow_addons) (2.13.3)\r\n",
      "\u001b[33mWARNING: Running pip as the 'root' user can result in broken permissions and conflicting behaviour with the system package manager. It is recommended to use a virtual environment instead: https://pip.pypa.io/warnings/venv\u001b[0m\r\n"
     ]
    }
   ],
   "source": [
    "! pip install transformers \n",
    "! pip install tensorflow_addons\n",
    "import numpy as np\n",
    "import tensorflow as tf\n",
    "from tensorflow import keras\n",
    "import pandas as pd \n",
    "from tensorflow.keras.layers import Embedding, Input, Dense, Lambda\n",
    "from tensorflow.keras.models import Model\n",
    "import tensorflow.keras.backend as K\n",
    "from tqdm.notebook import tqdm\n",
    "import tensorflow_addons as tfa\n",
    "from sklearn.metrics import f1_score\n",
    "from transformers import AutoTokenizer,AutoModel ,BertTokenizer , TFBertModel , PreTrainedTokenizerFast , TFAutoModel\n",
    "from ast import literal_eval\n",
    "import warnings \n",
    "import matplotlib.pyplot as plt \n",
    "warnings.filterwarnings('ignore')\n",
    "pd.set_option(\"display.max_info_columns\", 200)"
   ]
  },
  {
   "cell_type": "code",
   "execution_count": 2,
   "id": "f9887f60",
   "metadata": {
    "execution": {
     "iopub.execute_input": "2023-04-01T10:49:32.862361Z",
     "iopub.status.busy": "2023-04-01T10:49:32.861708Z",
     "iopub.status.idle": "2023-04-01T10:49:32.871983Z",
     "shell.execute_reply": "2023-04-01T10:49:32.872883Z",
     "shell.execute_reply.started": "2023-04-01T10:11:52.185260Z"
    },
    "papermill": {
     "duration": 0.03914,
     "end_time": "2023-04-01T10:49:32.873064",
     "exception": false,
     "start_time": "2023-04-01T10:49:32.833924",
     "status": "completed"
    },
    "tags": []
   },
   "outputs": [
    {
     "name": "stdout",
     "output_type": "stream",
     "text": [
      "Running on GPU\n",
      "N_REPLICAS: 1\n"
     ]
    }
   ],
   "source": [
    "# Detect hardware, return appropriate distribution strategy\n",
    "try:\n",
    "    TPU = tf.distribute.cluster_resolver.TPUClusterResolver()  # TPU detection. No parameters necessary if TPU_NAME environment variable is set. On Kaggle this is always the case.\n",
    "    print('Running on TPU ', TPU.master())\n",
    "except ValueError:\n",
    "    print('Running on GPU')\n",
    "    TPU = None\n",
    "\n",
    "if TPU:\n",
    "    tf.config.experimental_connect_to_cluster(TPU)\n",
    "    tf.tpu.experimental.initialize_tpu_system(TPU)\n",
    "    strategy = tf.distribute.experimental.TPUStrategy(TPU)\n",
    "else:\n",
    "    strategy = tf.distribute.get_strategy() # default distribution strategy in Tensorflow. Works on CPU and single GPU.\n",
    "\n",
    "N_REPLICAS = strategy.num_replicas_in_sync\n",
    "# Number of computing cores, is 8 for a TPU V3-8\n",
    "print(f'N_REPLICAS: {N_REPLICAS}')"
   ]
  },
  {
   "cell_type": "markdown",
   "id": "e3989c67",
   "metadata": {
    "papermill": {
     "duration": 0.022202,
     "end_time": "2023-04-01T10:49:32.918027",
     "exception": false,
     "start_time": "2023-04-01T10:49:32.895825",
     "status": "completed"
    },
    "tags": []
   },
   "source": [
    "`NBME - Score Clinical Patient Notes`\n",
    "\n",
    "`**Overiew of the Problem Statement :**`\n",
    "\n",
    "Currently, physicians score patient note exams, which is a time and resource-intensive\n",
    "process. The proposed solution will help overcome the practical barriers in patient note\n",
    "scoring, making the approach more transparent and interpretable. It will also help ease the\n",
    "development and administration of assessments, enabling medical practitioners to explore the\n",
    "full potential of patient notes in revealing information relevant to clinical skills assessment.\n",
    "The main challenge lies in the variability of expressions for different clinical concepts in\n",
    "patient notes. For instance, &quot;loss of interest in activities&quot; may be expressed as &quot;no longer\n",
    "plays tennis.&quot; Another challenge is to identify ambiguous negation cases such as &quot;no cold\n",
    "intolerance, hair loss, palpitations, or tremor,&quot; which correspond to the key essential &quot;lack of\n",
    "other thyroid symptoms.&quot;\n",
    "What dataset(s) will you use? We will use a dataset of clinical patient notes written by medical\n",
    "students, along with the corresponding exam rubrics. This dataset is provided by the National\n",
    "Board of Medical Examiners (NBME).:\n",
    "\n",
    "\n",
    "Below are the dataset we are using for the problem statemt:\n",
    "\n",
    "`** patient_notes.csv **`- \n",
    " \n",
    "Text detailing important information related by the patient during the encounter (physical exam and interview).\n",
    "\n",
    "Below are field related to patient notes \n",
    "\n",
    " pn_num - A unique identifier for each patient note.\n",
    "\n",
    " case_num - A unique identifier for the clinical case a patient note represents.\n",
    "\n",
    " pn_history - The text of the encounter as recorded by  the test taker.\n",
    "\n",
    "\n",
    "`** features.csv **`\n",
    "\n",
    "A clinically relevant concept. A rubric describes the key concepts relevant to each case.\n",
    "\n",
    "\n",
    "feature_num - A unique identifier for each feature.\n",
    "\n",
    "case_num - A unique identifier for each case.\n",
    "\n",
    "feature_text - A description of the feature.\n",
    "\n",
    "`**train.csv**`\n",
    "\n",
    "\n",
    "Training dataset \n",
    "\n",
    "pn_num - The patient note annotated in this row.\n",
    "\n",
    "feature_num - The feature annotated in this row.\n",
    "\n",
    "case_num - The case to which this patient note belongs.\n",
    "\n",
    "annotation - The text(s) within a patient note indicating a feature. A feature may be indicated multiple times within a single note.\n",
    "\n",
    "location - Character spans indicating the location of each annotation within the note. Multiple spans may be needed to represent an annotation, in which case the spans are delimited by a semicolon ."
   ]
  },
  {
   "cell_type": "code",
   "execution_count": 3,
   "id": "1c0c2dae",
   "metadata": {
    "execution": {
     "iopub.execute_input": "2023-04-01T10:49:32.967326Z",
     "iopub.status.busy": "2023-04-01T10:49:32.965312Z",
     "iopub.status.idle": "2023-04-01T10:49:32.970222Z",
     "shell.execute_reply": "2023-04-01T10:49:32.969780Z",
     "shell.execute_reply.started": "2023-04-01T10:11:52.204325Z"
    },
    "papermill": {
     "duration": 0.029857,
     "end_time": "2023-04-01T10:49:32.970338",
     "exception": false,
     "start_time": "2023-04-01T10:49:32.940481",
     "status": "completed"
    },
    "tags": []
   },
   "outputs": [],
   "source": [
    "class config:\n",
    "    MAX_LEN = 128 # intially we set it as 128 as default but it will overlayyed later  \n",
    "    EPOCHS = 4\n",
    "    DROPOUT = 0.4\n",
    "    LEARNING_RATE = 1e-5\n",
    "    BATCH_SIZE = 4"
   ]
  },
  {
   "cell_type": "code",
   "execution_count": 4,
   "id": "04061ebc",
   "metadata": {
    "execution": {
     "iopub.execute_input": "2023-04-01T10:49:33.019404Z",
     "iopub.status.busy": "2023-04-01T10:49:33.018645Z",
     "iopub.status.idle": "2023-04-01T10:49:58.554629Z",
     "shell.execute_reply": "2023-04-01T10:49:58.555218Z",
     "shell.execute_reply.started": "2023-04-01T10:11:52.219763Z"
    },
    "papermill": {
     "duration": 25.56271,
     "end_time": "2023-04-01T10:49:58.555426",
     "exception": false,
     "start_time": "2023-04-01T10:49:32.992716",
     "status": "completed"
    },
    "tags": []
   },
   "outputs": [
    {
     "data": {
      "application/vnd.jupyter.widget-view+json": {
       "model_id": "85deee8e3e9b42eca69af677cbe3f19b",
       "version_major": 2,
       "version_minor": 0
      },
      "text/plain": [
       "Downloading:   0%|          | 0.00/481 [00:00<?, ?B/s]"
      ]
     },
     "metadata": {},
     "output_type": "display_data"
    },
    {
     "data": {
      "application/vnd.jupyter.widget-view+json": {
       "model_id": "cab77788fa444a6591c3d84f7c08c217",
       "version_major": 2,
       "version_minor": 0
      },
      "text/plain": [
       "Downloading:   0%|          | 0.00/878k [00:00<?, ?B/s]"
      ]
     },
     "metadata": {},
     "output_type": "display_data"
    },
    {
     "data": {
      "application/vnd.jupyter.widget-view+json": {
       "model_id": "29114c28e6ee4024a32a3cf4a73d4579",
       "version_major": 2,
       "version_minor": 0
      },
      "text/plain": [
       "Downloading:   0%|          | 0.00/446k [00:00<?, ?B/s]"
      ]
     },
     "metadata": {},
     "output_type": "display_data"
    },
    {
     "data": {
      "application/vnd.jupyter.widget-view+json": {
       "model_id": "ca65b7c9986d4fc1a9c8e6ec0f19060f",
       "version_major": 2,
       "version_minor": 0
      },
      "text/plain": [
       "Downloading:   0%|          | 0.00/1.29M [00:00<?, ?B/s]"
      ]
     },
     "metadata": {},
     "output_type": "display_data"
    },
    {
     "data": {
      "application/vnd.jupyter.widget-view+json": {
       "model_id": "12a508b86eeb423ea312160e68fc3d50",
       "version_major": 2,
       "version_minor": 0
      },
      "text/plain": [
       "Downloading:   0%|          | 0.00/627M [00:00<?, ?B/s]"
      ]
     },
     "metadata": {},
     "output_type": "display_data"
    },
    {
     "name": "stderr",
     "output_type": "stream",
     "text": [
      "Some layers from the model checkpoint at roberta-base were not used when initializing TFRobertaModel: ['lm_head']\n",
      "- This IS expected if you are initializing TFRobertaModel from the checkpoint of a model trained on another task or with another architecture (e.g. initializing a BertForSequenceClassification model from a BertForPreTraining model).\n",
      "- This IS NOT expected if you are initializing TFRobertaModel from the checkpoint of a model that you expect to be exactly identical (initializing a BertForSequenceClassification model from a BertForSequenceClassification model).\n",
      "All the layers of TFRobertaModel were initialized from the model checkpoint at roberta-base.\n",
      "If your task is similar to the task the model of the checkpoint was trained on, you can already use TFRobertaModel for predictions without further training.\n"
     ]
    }
   ],
   "source": [
    "bert_tokenizer = AutoTokenizer.from_pretrained('roberta-base')\n",
    "bert_model = TFAutoModel.from_pretrained('roberta-base')"
   ]
  },
  {
   "cell_type": "code",
   "execution_count": 5,
   "id": "301db8d3",
   "metadata": {
    "execution": {
     "iopub.execute_input": "2023-04-01T10:49:58.613360Z",
     "iopub.status.busy": "2023-04-01T10:49:58.612857Z",
     "iopub.status.idle": "2023-04-01T10:49:59.366231Z",
     "shell.execute_reply": "2023-04-01T10:49:59.365710Z",
     "shell.execute_reply.started": "2023-04-01T10:12:13.845982Z"
    },
    "papermill": {
     "duration": 0.782479,
     "end_time": "2023-04-01T10:49:59.366354",
     "exception": false,
     "start_time": "2023-04-01T10:49:58.583875",
     "status": "completed"
    },
    "tags": []
   },
   "outputs": [],
   "source": [
    "BASE_PATH = \"../input/nbme-score-clinical-patient-notes/\"\n",
    "features_df = pd.read_csv(BASE_PATH + \"features.csv\")\n",
    "patient_notes_df = pd.read_csv(BASE_PATH + \"patient_notes.csv\")\n",
    "train_df = pd.read_csv(BASE_PATH + \"train.csv\")\n",
    "\n"
   ]
  },
  {
   "cell_type": "code",
   "execution_count": 6,
   "id": "4326c0d0",
   "metadata": {
    "execution": {
     "iopub.execute_input": "2023-04-01T10:49:59.430172Z",
     "iopub.status.busy": "2023-04-01T10:49:59.420646Z",
     "iopub.status.idle": "2023-04-01T10:49:59.465372Z",
     "shell.execute_reply": "2023-04-01T10:49:59.465809Z",
     "shell.execute_reply.started": "2023-04-01T10:12:14.611639Z"
    },
    "papermill": {
     "duration": 0.073655,
     "end_time": "2023-04-01T10:49:59.465966",
     "exception": false,
     "start_time": "2023-04-01T10:49:59.392311",
     "status": "completed"
    },
    "tags": []
   },
   "outputs": [
    {
     "data": {
      "text/html": [
       "<div>\n",
       "<style scoped>\n",
       "    .dataframe tbody tr th:only-of-type {\n",
       "        vertical-align: middle;\n",
       "    }\n",
       "\n",
       "    .dataframe tbody tr th {\n",
       "        vertical-align: top;\n",
       "    }\n",
       "\n",
       "    .dataframe thead th {\n",
       "        text-align: right;\n",
       "    }\n",
       "</style>\n",
       "<table border=\"1\" class=\"dataframe\">\n",
       "  <thead>\n",
       "    <tr style=\"text-align: right;\">\n",
       "      <th></th>\n",
       "      <th>id</th>\n",
       "      <th>case_num</th>\n",
       "      <th>pn_num</th>\n",
       "      <th>feature_num</th>\n",
       "      <th>annotation</th>\n",
       "      <th>location</th>\n",
       "      <th>feature_text</th>\n",
       "      <th>pn_history</th>\n",
       "    </tr>\n",
       "  </thead>\n",
       "  <tbody>\n",
       "    <tr>\n",
       "      <th>0</th>\n",
       "      <td>00016_000</td>\n",
       "      <td>0</td>\n",
       "      <td>16</td>\n",
       "      <td>0</td>\n",
       "      <td>['dad with recent heart attcak']</td>\n",
       "      <td>['696 724']</td>\n",
       "      <td>Family-history-of-MI-OR-Family-history-of-myoc...</td>\n",
       "      <td>HPI: 17yo M presents with palpitations. Patien...</td>\n",
       "    </tr>\n",
       "    <tr>\n",
       "      <th>1</th>\n",
       "      <td>00016_001</td>\n",
       "      <td>0</td>\n",
       "      <td>16</td>\n",
       "      <td>1</td>\n",
       "      <td>['mom with \"thyroid disease']</td>\n",
       "      <td>['668 693']</td>\n",
       "      <td>Family-history-of-thyroid-disorder</td>\n",
       "      <td>HPI: 17yo M presents with palpitations. Patien...</td>\n",
       "    </tr>\n",
       "    <tr>\n",
       "      <th>2</th>\n",
       "      <td>00016_002</td>\n",
       "      <td>0</td>\n",
       "      <td>16</td>\n",
       "      <td>2</td>\n",
       "      <td>['chest pressure']</td>\n",
       "      <td>['203 217']</td>\n",
       "      <td>Chest-pressure</td>\n",
       "      <td>HPI: 17yo M presents with palpitations. Patien...</td>\n",
       "    </tr>\n",
       "    <tr>\n",
       "      <th>3</th>\n",
       "      <td>00016_003</td>\n",
       "      <td>0</td>\n",
       "      <td>16</td>\n",
       "      <td>3</td>\n",
       "      <td>['intermittent episodes', 'episode']</td>\n",
       "      <td>['70 91', '176 183']</td>\n",
       "      <td>Intermittent-symptoms</td>\n",
       "      <td>HPI: 17yo M presents with palpitations. Patien...</td>\n",
       "    </tr>\n",
       "    <tr>\n",
       "      <th>4</th>\n",
       "      <td>00016_004</td>\n",
       "      <td>0</td>\n",
       "      <td>16</td>\n",
       "      <td>4</td>\n",
       "      <td>['felt as if he were going to pass out']</td>\n",
       "      <td>['222 258']</td>\n",
       "      <td>Lightheaded</td>\n",
       "      <td>HPI: 17yo M presents with palpitations. Patien...</td>\n",
       "    </tr>\n",
       "  </tbody>\n",
       "</table>\n",
       "</div>"
      ],
      "text/plain": [
       "          id  case_num  pn_num  feature_num  \\\n",
       "0  00016_000         0      16            0   \n",
       "1  00016_001         0      16            1   \n",
       "2  00016_002         0      16            2   \n",
       "3  00016_003         0      16            3   \n",
       "4  00016_004         0      16            4   \n",
       "\n",
       "                                 annotation              location  \\\n",
       "0          ['dad with recent heart attcak']           ['696 724']   \n",
       "1             ['mom with \"thyroid disease']           ['668 693']   \n",
       "2                        ['chest pressure']           ['203 217']   \n",
       "3      ['intermittent episodes', 'episode']  ['70 91', '176 183']   \n",
       "4  ['felt as if he were going to pass out']           ['222 258']   \n",
       "\n",
       "                                        feature_text  \\\n",
       "0  Family-history-of-MI-OR-Family-history-of-myoc...   \n",
       "1                 Family-history-of-thyroid-disorder   \n",
       "2                                     Chest-pressure   \n",
       "3                              Intermittent-symptoms   \n",
       "4                                        Lightheaded   \n",
       "\n",
       "                                          pn_history  \n",
       "0  HPI: 17yo M presents with palpitations. Patien...  \n",
       "1  HPI: 17yo M presents with palpitations. Patien...  \n",
       "2  HPI: 17yo M presents with palpitations. Patien...  \n",
       "3  HPI: 17yo M presents with palpitations. Patien...  \n",
       "4  HPI: 17yo M presents with palpitations. Patien...  "
      ]
     },
     "execution_count": 6,
     "metadata": {},
     "output_type": "execute_result"
    }
   ],
   "source": [
    "df = pd.merge(train_df, features_df, on=['feature_num','case_num'], how='inner')\n",
    "df =pd.merge(df, patient_notes_df, on=['pn_num','case_num'], how='inner')\n",
    "df.head()"
   ]
  },
  {
   "cell_type": "code",
   "execution_count": 7,
   "id": "cbe8e9a9",
   "metadata": {
    "execution": {
     "iopub.execute_input": "2023-04-01T10:49:59.522800Z",
     "iopub.status.busy": "2023-04-01T10:49:59.522002Z",
     "iopub.status.idle": "2023-04-01T10:49:59.524026Z",
     "shell.execute_reply": "2023-04-01T10:49:59.524450Z",
     "shell.execute_reply.started": "2023-04-01T10:12:14.659323Z"
    },
    "papermill": {
     "duration": 0.032301,
     "end_time": "2023-04-01T10:49:59.524581",
     "exception": false,
     "start_time": "2023-04-01T10:49:59.492280",
     "status": "completed"
    },
    "tags": []
   },
   "outputs": [],
   "source": [
    "pd.set_option(\"display.max_info_columns\", 200)"
   ]
  },
  {
   "cell_type": "code",
   "execution_count": 8,
   "id": "e2471b2b",
   "metadata": {
    "execution": {
     "iopub.execute_input": "2023-04-01T10:49:59.583160Z",
     "iopub.status.busy": "2023-04-01T10:49:59.582495Z",
     "iopub.status.idle": "2023-04-01T10:49:59.585348Z",
     "shell.execute_reply": "2023-04-01T10:49:59.585747Z",
     "shell.execute_reply.started": "2023-04-01T10:12:14.665216Z"
    },
    "papermill": {
     "duration": 0.034786,
     "end_time": "2023-04-01T10:49:59.585901",
     "exception": false,
     "start_time": "2023-04-01T10:49:59.551115",
     "status": "completed"
    },
    "tags": []
   },
   "outputs": [
    {
     "data": {
      "text/plain": [
       "array(['00016_000', 0, 16, 0, \"['dad with recent heart attcak']\",\n",
       "       \"['696 724']\",\n",
       "       'Family-history-of-MI-OR-Family-history-of-myocardial-infarction',\n",
       "       'HPI: 17yo M presents with palpitations. Patient reports 3-4 months of intermittent episodes of \"heart beating/pounding out of my chest.\" 2 days ago during a soccer game had an episode, but this time had chest pressure and felt as if he were going to pass out (did not lose conciousness). Of note patient endorses abusing adderall, primarily to study (1-3 times per week). Before recent soccer game, took adderrall night before and morning of game. Denies shortness of breath, diaphoresis, fevers, chills, headache, fatigue, changes in sleep, changes in vision/hearing, abdominal paun, changes in bowel or urinary habits. \\r\\nPMHx: none\\r\\nRx: uses friends adderrall\\r\\nFHx: mom with \"thyroid disease,\" dad with recent heart attcak\\r\\nAll: none\\r\\nImmunizations: up to date\\r\\nSHx: Freshmen in college. Endorses 3-4 drinks 3 nights / week (on weekends), denies tabacco, endorses trying marijuana. Sexually active with girlfriend x 1 year, uses condoms'],\n",
       "      dtype=object)"
      ]
     },
     "execution_count": 8,
     "metadata": {},
     "output_type": "execute_result"
    }
   ],
   "source": [
    "df.iloc[0,:].values"
   ]
  },
  {
   "cell_type": "code",
   "execution_count": 9,
   "id": "d9262e0e",
   "metadata": {
    "execution": {
     "iopub.execute_input": "2023-04-01T10:49:59.674623Z",
     "iopub.status.busy": "2023-04-01T10:49:59.653422Z",
     "iopub.status.idle": "2023-04-01T10:49:59.833750Z",
     "shell.execute_reply": "2023-04-01T10:49:59.833222Z",
     "shell.execute_reply.started": "2023-04-01T10:12:14.678197Z"
    },
    "papermill": {
     "duration": 0.221352,
     "end_time": "2023-04-01T10:49:59.833898",
     "exception": false,
     "start_time": "2023-04-01T10:49:59.612546",
     "status": "completed"
    },
    "tags": []
   },
   "outputs": [],
   "source": [
    "# always use literal_eval instead of eval https://nedbatchelder.com/blog/201206/eval_really_is_dangerous.html\n",
    "df[\"annotation\"] = [literal_eval(x) for x in df[\"annotation\"]] \n",
    "df[\"location\"] = [literal_eval(x) for x in df[\"location\"]]"
   ]
  },
  {
   "cell_type": "code",
   "execution_count": 10,
   "id": "4e9bbd58",
   "metadata": {
    "execution": {
     "iopub.execute_input": "2023-04-01T10:49:59.895124Z",
     "iopub.status.busy": "2023-04-01T10:49:59.894338Z",
     "iopub.status.idle": "2023-04-01T10:50:08.192992Z",
     "shell.execute_reply": "2023-04-01T10:50:08.193702Z",
     "shell.execute_reply.started": "2023-04-01T10:12:14.879014Z"
    },
    "papermill": {
     "duration": 8.333455,
     "end_time": "2023-04-01T10:50:08.193919",
     "exception": false,
     "start_time": "2023-04-01T10:49:59.860464",
     "status": "completed"
    },
    "tags": []
   },
   "outputs": [
    {
     "data": {
      "application/vnd.jupyter.widget-view+json": {
       "model_id": "b61577fe5d0a412a923ad4ea5d4a4635",
       "version_major": 2,
       "version_minor": 0
      },
      "text/plain": [
       "  0%|          | 0/14300 [00:00<?, ?it/s]"
      ]
     },
     "metadata": {},
     "output_type": "display_data"
    },
    {
     "name": "stdout",
     "output_type": "stream",
     "text": [
      "pn_history max(lengths): 390\n"
     ]
    },
    {
     "data": {
      "application/vnd.jupyter.widget-view+json": {
       "model_id": "87134ca19d9c44878e2aeecfecb566c7",
       "version_major": 2,
       "version_minor": 0
      },
      "text/plain": [
       "  0%|          | 0/14300 [00:00<?, ?it/s]"
      ]
     },
     "metadata": {},
     "output_type": "display_data"
    },
    {
     "name": "stdout",
     "output_type": "stream",
     "text": [
      "feature_text  max(lengths): 30\n",
      "max_len: 423\n"
     ]
    }
   ],
   "source": [
    "pn_history_lengths = []\n",
    "tk0 = tqdm(df['pn_history'].fillna(\"\").values, total=len(df))\n",
    "for text in tk0:\n",
    "    length = bert_tokenizer.encode(text,add_special_tokens=False)\n",
    "        \n",
    "    pn_history_lengths.append(len(length))\n",
    "print(f'pn_history max(lengths): {max(pn_history_lengths)}')\n",
    "\n",
    "\n",
    "features_lengths=[]\n",
    "tk1 = tqdm(df['feature_text'].fillna(\"\").values, total=len(df))\n",
    "for text in tk1:\n",
    "    length = bert_tokenizer.encode(text,add_special_tokens=False)\n",
    "    features_lengths.append(len(length))\n",
    "print(f'feature_text  max(lengths): {max(features_lengths)}')\n",
    "\n",
    "max_lenght= max(pn_history_lengths) + max(features_lengths) + 3 # cls & sep & sep\n",
    "# set the max_lenght based on the max data we have \n",
    "config.MAX_LEN=max_lenght\n",
    "\n",
    "print(f\"max_len: {config.MAX_LEN}\")"
   ]
  },
  {
   "cell_type": "code",
   "execution_count": 11,
   "id": "30204cc0",
   "metadata": {
    "execution": {
     "iopub.execute_input": "2023-04-01T10:50:08.265397Z",
     "iopub.status.busy": "2023-04-01T10:50:08.254443Z",
     "iopub.status.idle": "2023-04-01T10:50:08.266412Z",
     "shell.execute_reply": "2023-04-01T10:50:08.267158Z",
     "shell.execute_reply.started": "2023-04-01T10:12:24.829786Z"
    },
    "papermill": {
     "duration": 0.043963,
     "end_time": "2023-04-01T10:50:08.267396",
     "exception": false,
     "start_time": "2023-04-01T10:50:08.223433",
     "status": "completed"
    },
    "tags": []
   },
   "outputs": [],
   "source": [
    "def loc_list_to_ints(loc_list):\n",
    "    to_return = []\n",
    "    for loc_str in loc_list:  \n",
    "        loc_strs = loc_str.split(\";\")\n",
    "        for loc in loc_strs:\n",
    "            start, end = loc.split()\n",
    "            to_return.append((int(start), int(end)))\n",
    "    return to_return\n"
   ]
  },
  {
   "cell_type": "code",
   "execution_count": 12,
   "id": "5182f7a9",
   "metadata": {
    "execution": {
     "iopub.execute_input": "2023-04-01T10:50:08.336009Z",
     "iopub.status.busy": "2023-04-01T10:50:08.335176Z",
     "iopub.status.idle": "2023-04-01T10:50:08.337540Z",
     "shell.execute_reply": "2023-04-01T10:50:08.337132Z",
     "shell.execute_reply.started": "2023-04-01T10:12:24.837167Z"
    },
    "papermill": {
     "duration": 0.041611,
     "end_time": "2023-04-01T10:50:08.337654",
     "exception": false,
     "start_time": "2023-04-01T10:50:08.296043",
     "status": "completed"
    },
    "tags": []
   },
   "outputs": [],
   "source": [
    "def classLabeling(pn_history, feature_text, annotation, location, tokenizer, max_len):    ##X , Y, selected_text  \n",
    "    \n",
    "\n",
    "    location_list = loc_list_to_ints(location)   # convert the locations into a list \n",
    "\n",
    "    char_targets = [0] * len(pn_history)  # creation of character taragert you can reason below \n",
    "\n",
    "    for loc,anno in zip(location_list ,annotation):        \n",
    "        \n",
    "        len_st = int(loc[1]) - int(loc[0])\n",
    "        idx0 = None\n",
    "        idx1 = None        \n",
    "        for ind in (i for i, e in enumerate(pn_history) if (e == anno[0] and i == int(loc[0]))): # Only if the annotation start with character we are interested and look and character annotation postion match go inside the loop\n",
    "        \n",
    "            if pn_history[ind: ind+len_st] == anno.strip():\n",
    "\n",
    "                idx0 = ind\n",
    "                idx1 = ind + len_st - 1\n",
    "                if idx0 != None and idx1 != None:\n",
    "                    for ct in range(idx0, idx1 + 1): # make character targets as \"1\" for them \n",
    "                        char_targets[ct] = 1 \n",
    "                break\n",
    "    # Tokenize the data and here we are returing the offstes which we gone use as labels which you can find below \n",
    "    tokenized_input = bert_tokenizer.encode_plus(feature_text,pn_history,return_attention_mask=True,\n",
    "                                                  return_offsets_mapping=True,return_token_type_ids=True)\n",
    "    \n",
    "    input_ids = tokenized_input['input_ids']\n",
    "    mask = tokenized_input['attention_mask']\n",
    "    token_type_ids = tokenized_input['token_type_ids']\n",
    "    offsets = tokenized_input['offset_mapping']\n",
    "    \n",
    "    target_idx = []\n",
    "    for j, (offset1, offset2) in enumerate(offsets): # look for offsets \n",
    "        if sum(char_targets[offset1: offset2]) > 0: # if the lenght of the char_target for particualr target is greater than 0 then added one at that offsets \n",
    "            target_idx.append(j)\n",
    "            \n",
    "    #padding\n",
    "    padding_length = config.MAX_LEN - len(input_ids) # Since we used 312 as max_lenght incase if we less lenght we need to pad the zeros \n",
    "    if padding_length > 0:\n",
    "        input_ids = input_ids + ([0] * padding_length)\n",
    "        mask = mask + ([0] * padding_length)\n",
    "        token_type_ids = token_type_ids + ([0] * padding_length)\n",
    "        offsets = offsets + ([(0, 0)] * padding_length)\n",
    "       \n",
    "    #creating label\n",
    "    ignore_idxes = np.where(np.array(token_type_ids) != 1)[0] # Bascially we use token type ids Segment token indices to indicate first and second portions of the input\n",
    "\n",
    "    label = np.zeros(len(offsets))\n",
    "    label[ignore_idxes] = 0.0 # creating a labels zero for not interested to look \n",
    "    label[target_idx] = 1.0  # label for which we are interested to look\n",
    "    return {\n",
    "    'ids': input_ids,\n",
    "    'mask': mask,\n",
    "    'token_type_ids': token_type_ids,\n",
    "    'labels': label,\n",
    "    'offsets': offsets\n",
    "}"
   ]
  },
  {
   "cell_type": "code",
   "execution_count": 13,
   "id": "e0a494f5",
   "metadata": {
    "execution": {
     "iopub.execute_input": "2023-04-01T10:50:08.400042Z",
     "iopub.status.busy": "2023-04-01T10:50:08.399417Z",
     "iopub.status.idle": "2023-04-01T10:50:08.402385Z",
     "shell.execute_reply": "2023-04-01T10:50:08.402969Z",
     "shell.execute_reply.started": "2023-04-01T10:12:24.853389Z"
    },
    "papermill": {
     "duration": 0.037959,
     "end_time": "2023-04-01T10:50:08.403138",
     "exception": false,
     "start_time": "2023-04-01T10:50:08.365179",
     "status": "completed"
    },
    "tags": []
   },
   "outputs": [
    {
     "name": "stdout",
     "output_type": "stream",
     "text": [
      "423\n"
     ]
    }
   ],
   "source": [
    "\n",
    "# define the tokenizer and max length\n",
    "tokenizer = bert_tokenizer\n",
    "max_len = config.MAX_LEN\n",
    "\n",
    "print(max_len)\n",
    "\n",
    "# define the function to create the dataset\n",
    "def create_dataset(data):\n",
    "    # create empty lists to store inputs and labels\n",
    "    ids, masks, token_types, labels = [], [], [], []\n",
    "\n",
    "    for index,row in data.iterrows():\n",
    "\n",
    "        # extract the inputs and labels using classLabeling function\n",
    "        inputs = classLabeling(row['pn_history'], row['feature_text'], \n",
    "                               row['annotation'], row['location'], \n",
    "                               tokenizer, max_len)\n",
    "\n",
    "        # append the inputs and labels to the respective lists\n",
    "        ids.append(inputs['ids'])\n",
    "        masks.append(inputs['mask'])\n",
    "        token_types.append(inputs['token_type_ids'])\n",
    "        labels.append(inputs['labels'])\n",
    "\n",
    "    # convert the lists to numpy arrays\n",
    "    ids = np.array(ids)\n",
    "    attention_masks = np.array(masks)\n",
    "    token_type_ids = np.array(token_types)\n",
    "    labels = np.array(labels)\n",
    "\n",
    "\n",
    "    return {\"ids\":ids,\"mask\": attention_masks,\"token_type_ids\":token_type_ids},labels\n"
   ]
  },
  {
   "cell_type": "code",
   "execution_count": 14,
   "id": "afef607a",
   "metadata": {
    "execution": {
     "iopub.execute_input": "2023-04-01T10:50:08.465077Z",
     "iopub.status.busy": "2023-04-01T10:50:08.464429Z",
     "iopub.status.idle": "2023-04-01T10:50:08.467189Z",
     "shell.execute_reply": "2023-04-01T10:50:08.466709Z",
     "shell.execute_reply.started": "2023-04-01T10:12:24.867990Z"
    },
    "papermill": {
     "duration": 0.035503,
     "end_time": "2023-04-01T10:50:08.467300",
     "exception": false,
     "start_time": "2023-04-01T10:50:08.431797",
     "status": "completed"
    },
    "tags": []
   },
   "outputs": [],
   "source": [
    "# create df dataset\n",
    "train_df = df.iloc[:int(0.8*len(df)),:]\n",
    "val_df   = df.iloc[int(0.8*len(df)):,:]"
   ]
  },
  {
   "cell_type": "code",
   "execution_count": 15,
   "id": "54e92cba",
   "metadata": {
    "execution": {
     "iopub.execute_input": "2023-04-01T10:50:08.528070Z",
     "iopub.status.busy": "2023-04-01T10:50:08.527254Z",
     "iopub.status.idle": "2023-04-01T10:50:24.217360Z",
     "shell.execute_reply": "2023-04-01T10:50:24.216853Z",
     "shell.execute_reply.started": "2023-04-01T10:12:24.879486Z"
    },
    "papermill": {
     "duration": 15.72199,
     "end_time": "2023-04-01T10:50:24.217496",
     "exception": false,
     "start_time": "2023-04-01T10:50:08.495506",
     "status": "completed"
    },
    "tags": []
   },
   "outputs": [],
   "source": [
    "train_data , train_labels =create_dataset(train_df)\n",
    "val_data , val_labels = create_dataset(val_df)"
   ]
  },
  {
   "cell_type": "code",
   "execution_count": 16,
   "id": "a3f46df8",
   "metadata": {
    "execution": {
     "iopub.execute_input": "2023-04-01T10:50:24.282526Z",
     "iopub.status.busy": "2023-04-01T10:50:24.281792Z",
     "iopub.status.idle": "2023-04-01T10:50:24.284942Z",
     "shell.execute_reply": "2023-04-01T10:50:24.284483Z",
     "shell.execute_reply.started": "2023-04-01T10:12:40.255856Z"
    },
    "papermill": {
     "duration": 0.03848,
     "end_time": "2023-04-01T10:50:24.285065",
     "exception": false,
     "start_time": "2023-04-01T10:50:24.246585",
     "status": "completed"
    },
    "tags": []
   },
   "outputs": [],
   "source": [
    "# metrics\n",
    "class F1Score(tf.keras.metrics.Metric):\n",
    "    def __init__(self, name='f1', **kwargs):\n",
    "        super(F1Score, self).__init__(name=name, **kwargs)\n",
    "        self.f1 = tfa.metrics.F1Score(num_classes=2, average='micro', threshold=0.50)\n",
    "\n",
    "    def update_state(self, y_true, y_pred, sample_weight=None):\n",
    "        y_true = tf.reshape(y_true, (-1,config.MAX_LEN))\n",
    "        y_pred = tf.reshape(y_pred, (-1,config.MAX_LEN))\n",
    "        self.f1.update_state(y_true, y_pred)\n",
    "        \n",
    "    def reset_state(self):\n",
    "        self.f1.reset_state()\n",
    "    \n",
    "    def result(self):\n",
    "        return self.f1.result()\n",
    "    "
   ]
  },
  {
   "cell_type": "code",
   "execution_count": 17,
   "id": "c1da0af8",
   "metadata": {
    "execution": {
     "iopub.execute_input": "2023-04-01T10:50:24.349272Z",
     "iopub.status.busy": "2023-04-01T10:50:24.348442Z",
     "iopub.status.idle": "2023-04-01T10:50:24.359241Z",
     "shell.execute_reply": "2023-04-01T10:50:24.358758Z",
     "shell.execute_reply.started": "2023-04-01T10:12:40.265061Z"
    },
    "papermill": {
     "duration": 0.04582,
     "end_time": "2023-04-01T10:50:24.359352",
     "exception": false,
     "start_time": "2023-04-01T10:50:24.313532",
     "status": "completed"
    },
    "tags": []
   },
   "outputs": [],
   "source": [
    "with strategy.scope():\n",
    "    # METRICS\n",
    "    model_metrics = [\n",
    "        tf.keras.metrics.Precision(name='precision', thresholds=0.5),\n",
    "        tf.keras.metrics.Recall(name='recall', thresholds=0.5),\n",
    "        F1Score(),\n",
    "    ]"
   ]
  },
  {
   "cell_type": "code",
   "execution_count": 18,
   "id": "ed1eb107",
   "metadata": {
    "execution": {
     "iopub.execute_input": "2023-04-01T10:50:24.425237Z",
     "iopub.status.busy": "2023-04-01T10:50:24.424354Z",
     "iopub.status.idle": "2023-04-01T10:50:24.426990Z",
     "shell.execute_reply": "2023-04-01T10:50:24.426533Z",
     "shell.execute_reply.started": "2023-04-01T10:12:40.294115Z"
    },
    "papermill": {
     "duration": 0.039132,
     "end_time": "2023-04-01T10:50:24.427131",
     "exception": false,
     "start_time": "2023-04-01T10:50:24.387999",
     "status": "completed"
    },
    "tags": []
   },
   "outputs": [],
   "source": [
    "def create_bert_model(hidden_size=100,dropout=config.DROPOUT,learning_rate=config.LEARNING_RATE):\n",
    "\n",
    "\n",
    "    input_ids = tf.keras.layers.Input(shape=(config.MAX_LEN,), dtype=tf.int32)\n",
    "    token_type_ids = tf.keras.layers.Input(shape=(config.MAX_LEN,), dtype=tf.int32)\n",
    "    attention_mask = tf.keras.layers.Input(shape=(config.MAX_LEN,), dtype=tf.int32)\n",
    "     \n",
    "\n",
    "    bert_out = bert_model(input_ids,attention_mask=attention_mask,token_type_ids=token_type_ids).last_hidden_state\n",
    "\n",
    "    cls_token = bert_out\n",
    "\n",
    "    hidden = tf.keras.layers.Dense(hidden_size, activation='relu')(cls_token)\n",
    "\n",
    "\n",
    "    hidden = tf.keras.layers.Dropout(dropout)(hidden)  \n",
    "\n",
    "\n",
    "    output = tf.keras.layers.Dense(1,activation='sigmoid')(hidden)\n",
    "    \n",
    "    model = tf.keras.Model(inputs=[input_ids,token_type_ids,attention_mask], outputs=[output])\n",
    "    \n",
    "    model.compile(optimizer=tf.keras.optimizers.Adam(learning_rate=learning_rate),\n",
    "                                 loss = tf.keras.losses.BinaryCrossentropy(from_logits=False), \n",
    "                                 metrics=model_metrics)\n",
    "    \n",
    "    return model\n"
   ]
  },
  {
   "cell_type": "code",
   "execution_count": 19,
   "id": "ece97b92",
   "metadata": {
    "execution": {
     "iopub.execute_input": "2023-04-01T10:50:24.488659Z",
     "iopub.status.busy": "2023-04-01T10:50:24.488144Z",
     "iopub.status.idle": "2023-04-01T10:50:31.015982Z",
     "shell.execute_reply": "2023-04-01T10:50:31.016434Z",
     "shell.execute_reply.started": "2023-04-01T10:12:40.304903Z"
    },
    "papermill": {
     "duration": 6.561229,
     "end_time": "2023-04-01T10:50:31.016610",
     "exception": false,
     "start_time": "2023-04-01T10:50:24.455381",
     "status": "completed"
    },
    "tags": []
   },
   "outputs": [],
   "source": [
    "model = create_bert_model()"
   ]
  },
  {
   "cell_type": "code",
   "execution_count": 20,
   "id": "f13acaa6",
   "metadata": {
    "execution": {
     "iopub.execute_input": "2023-04-01T10:50:31.089241Z",
     "iopub.status.busy": "2023-04-01T10:50:31.079661Z",
     "iopub.status.idle": "2023-04-01T10:50:31.094646Z",
     "shell.execute_reply": "2023-04-01T10:50:31.095234Z",
     "shell.execute_reply.started": "2023-04-01T10:12:46.884261Z"
    },
    "papermill": {
     "duration": 0.050161,
     "end_time": "2023-04-01T10:50:31.095421",
     "exception": false,
     "start_time": "2023-04-01T10:50:31.045260",
     "status": "completed"
    },
    "tags": []
   },
   "outputs": [
    {
     "name": "stdout",
     "output_type": "stream",
     "text": [
      "Model: \"model\"\n",
      "__________________________________________________________________________________________________\n",
      "Layer (type)                    Output Shape         Param #     Connected to                     \n",
      "==================================================================================================\n",
      "input_1 (InputLayer)            [(None, 423)]        0                                            \n",
      "__________________________________________________________________________________________________\n",
      "input_3 (InputLayer)            [(None, 423)]        0                                            \n",
      "__________________________________________________________________________________________________\n",
      "input_2 (InputLayer)            [(None, 423)]        0                                            \n",
      "__________________________________________________________________________________________________\n",
      "tf_roberta_model (TFRobertaMode TFBaseModelOutputWit 124645632   input_1[0][0]                    \n",
      "                                                                 input_3[0][0]                    \n",
      "                                                                 input_2[0][0]                    \n",
      "__________________________________________________________________________________________________\n",
      "dense (Dense)                   (None, 423, 100)     76900       tf_roberta_model[0][0]           \n",
      "__________________________________________________________________________________________________\n",
      "dropout_37 (Dropout)            (None, 423, 100)     0           dense[0][0]                      \n",
      "__________________________________________________________________________________________________\n",
      "dense_1 (Dense)                 (None, 423, 1)       101         dropout_37[0][0]                 \n",
      "==================================================================================================\n",
      "Total params: 124,722,633\n",
      "Trainable params: 124,722,633\n",
      "Non-trainable params: 0\n",
      "__________________________________________________________________________________________________\n"
     ]
    }
   ],
   "source": [
    "model.summary()"
   ]
  },
  {
   "cell_type": "code",
   "execution_count": 21,
   "id": "5732f6a5",
   "metadata": {
    "execution": {
     "iopub.execute_input": "2023-04-01T10:50:31.158511Z",
     "iopub.status.busy": "2023-04-01T10:50:31.157836Z",
     "iopub.status.idle": "2023-04-01T10:50:31.160095Z",
     "shell.execute_reply": "2023-04-01T10:50:31.160472Z",
     "shell.execute_reply.started": "2023-04-01T10:12:46.906542Z"
    },
    "papermill": {
     "duration": 0.036068,
     "end_time": "2023-04-01T10:50:31.160617",
     "exception": false,
     "start_time": "2023-04-01T10:50:31.124549",
     "status": "completed"
    },
    "tags": []
   },
   "outputs": [],
   "source": [
    "early_stop = tf.keras.callbacks.EarlyStopping(\n",
    "    monitor='val_loss', # look at val before we stop the training \n",
    "    min_delta=1e-5,  #  if min_delta is set to 0.001 and the monitored quantity is validation loss, then if the validation loss decreases by less than 0.001 from the previous epoch, it will not be considered as an improvement, and the EarlyStopping callback will wait for more significant improvements before stopping the training.\n",
    "    patience=2, # patience refers to the number of epochs the training process can continue without improvement in the monitored quantity (e.g., validation loss or accuracy) before the training process is stopped.\n",
    "    verbose=1, # logging messages printed to the console at the end of each epoch\n",
    "    mode='auto', # to decrese the loss \n",
    "    restore_best_weights=True # to save best weights\n",
    ")\n",
    "\n",
    "reduce_lr = tf.keras.callbacks.ReduceLROnPlateau(\n",
    "    monitor='val_loss', # look at val loss \n",
    "    factor=0.01,  # factor the learning rate to be decereased \n",
    "    patience=2,  # no.of epochs to be monitored \n",
    "    mode='auto', # to decrease loss \n",
    "    min_delta=0.001, # #  if min_delta is set to 0.001 and the monitored quantity is validation loss, then if the validation loss decreases by less than 0.001 from the previous epoch, it will not be considered as an improvement.\n",
    "    verbose = 1\n",
    ")"
   ]
  },
  {
   "cell_type": "code",
   "execution_count": 22,
   "id": "410700c9",
   "metadata": {
    "execution": {
     "iopub.execute_input": "2023-04-01T10:50:31.220331Z",
     "iopub.status.busy": "2023-04-01T10:50:31.219577Z",
     "iopub.status.idle": "2023-04-01T11:28:36.466550Z",
     "shell.execute_reply": "2023-04-01T11:28:36.464001Z"
    },
    "papermill": {
     "duration": 2285.277731,
     "end_time": "2023-04-01T11:28:36.466754",
     "exception": false,
     "start_time": "2023-04-01T10:50:31.189023",
     "status": "completed"
    },
    "tags": []
   },
   "outputs": [
    {
     "name": "stdout",
     "output_type": "stream",
     "text": [
      "Epoch 1/4\n",
      "2860/2860 [==============================] - 767s 265ms/step - loss: 0.0191 - precision: 0.5396 - recall: 0.4296 - f1: 0.4784 - val_loss: 0.0087 - val_precision: 0.7091 - val_recall: 0.5823 - val_f1: 0.6395\n",
      "Epoch 2/4\n",
      "2860/2860 [==============================] - 757s 265ms/step - loss: 0.0085 - precision: 0.8087 - recall: 0.6992 - f1: 0.7500 - val_loss: 0.0090 - val_precision: 0.7529 - val_recall: 0.6151 - val_f1: 0.6770\n",
      "Epoch 3/4\n",
      "2860/2860 [==============================] - 757s 265ms/step - loss: 0.0065 - precision: 0.8287 - recall: 0.7812 - f1: 0.8043 - val_loss: 0.0091 - val_precision: 0.6893 - val_recall: 0.7311 - val_f1: 0.7096\n",
      "Restoring model weights from the end of the best epoch.\n",
      "\n",
      "Epoch 00003: ReduceLROnPlateau reducing learning rate to 9.999999747378752e-08.\n",
      "Epoch 00003: early stopping\n"
     ]
    }
   ],
   "source": [
    "model_history = model.fit(\n",
    "    (train_data['ids'],train_data['token_type_ids'], train_data['mask']),\n",
    "    train_labels,\n",
    "    validation_data=((val_data['ids'],val_data['token_type_ids'],val_data['mask']), val_labels),\n",
    "    batch_size=config.BATCH_SIZE,\n",
    "    epochs=config.EPOCHS,\n",
    "    callbacks = [early_stop, reduce_lr]\n",
    ")  "
   ]
  },
  {
   "cell_type": "code",
   "execution_count": 23,
   "id": "104a50e1",
   "metadata": {
    "execution": {
     "iopub.execute_input": "2023-04-01T11:28:41.422009Z",
     "iopub.status.busy": "2023-04-01T11:28:41.421425Z",
     "iopub.status.idle": "2023-04-01T11:29:02.849148Z",
     "shell.execute_reply": "2023-04-01T11:29:02.848665Z"
    },
    "papermill": {
     "duration": 23.911796,
     "end_time": "2023-04-01T11:29:02.849285",
     "exception": false,
     "start_time": "2023-04-01T11:28:38.937489",
     "status": "completed"
    },
    "tags": []
   },
   "outputs": [
    {
     "data": {
      "image/png": "[encoded data removed]",
      "text/plain": [
       "<Figure size 1080x360 with 1 Axes>"
      ]
     },
     "metadata": {
      "needs_background": "light"
     },
     "output_type": "display_data"
    }
   ],
   "source": [
    "plt.figure(figsize=(15,5))\n",
    "plt.plot(range(model_history.epoch[-1]+1),model_history.history['val_loss'],label='val_loss')\n",
    "plt.plot(range(model_history.epoch[-1]+1),model_history.history['loss'],label='loss')\n",
    "plt.title('loss'); plt.xlabel('Epoch'); plt.ylabel('loss');plt.legend(); \n",
    "plt.show()"
   ]
  },
  {
   "cell_type": "code",
   "execution_count": 24,
   "id": "e99a4b97",
   "metadata": {
    "execution": {
     "iopub.execute_input": "2023-04-01T11:29:07.758201Z",
     "iopub.status.busy": "2023-04-01T11:29:07.756299Z",
     "iopub.status.idle": "2023-04-01T11:29:07.954691Z",
     "shell.execute_reply": "2023-04-01T11:29:07.955238Z"
    },
    "papermill": {
     "duration": 2.669269,
     "end_time": "2023-04-01T11:29:07.955391",
     "exception": false,
     "start_time": "2023-04-01T11:29:05.286122",
     "status": "completed"
    },
    "tags": []
   },
   "outputs": [
    {
     "data": {
      "image/png": "[encoded data removed]",
      "text/plain": [
       "<Figure size 1080x360 with 1 Axes>"
      ]
     },
     "metadata": {
      "needs_background": "light"
     },
     "output_type": "display_data"
    }
   ],
   "source": [
    "plt.figure(figsize=(15,5))\n",
    "plt.plot(range(model_history.epoch[-1]+1),model_history.history['val_f1'],label='val_f1')\n",
    "plt.plot(range(model_history.epoch[-1]+1),model_history.history['f1'],label='f1')\n",
    "plt.title('F1'); plt.xlabel('Epoch'); plt.ylabel('f1');plt.legend(); \n",
    "plt.show()"
   ]
  },
  {
   "cell_type": "code",
   "execution_count": 25,
   "id": "dae37f21",
   "metadata": {
    "execution": {
     "iopub.execute_input": "2023-04-01T11:29:13.131571Z",
     "iopub.status.busy": "2023-04-01T11:29:13.130749Z",
     "iopub.status.idle": "2023-04-01T11:29:13.355732Z",
     "shell.execute_reply": "2023-04-01T11:29:13.356352Z"
    },
    "papermill": {
     "duration": 2.689814,
     "end_time": "2023-04-01T11:29:13.356514",
     "exception": false,
     "start_time": "2023-04-01T11:29:10.666700",
     "status": "completed"
    },
    "tags": []
   },
   "outputs": [
    {
     "data": {
      "image/png": "[encoded data removed]",
      "text/plain": [
       "<Figure size 1080x360 with 1 Axes>"
      ]
     },
     "metadata": {
      "needs_background": "light"
     },
     "output_type": "display_data"
    }
   ],
   "source": [
    "plt.figure(figsize=(15,5))\n",
    "plt.plot(range(model_history.epoch[-1]+1),model_history.history['val_precision'],label='val_precision')\n",
    "plt.plot(range(model_history.epoch[-1]+1),model_history.history['precision'],label='precision')\n",
    "plt.title('Precision'); plt.xlabel('Epoch'); plt.ylabel('precision');plt.legend(); \n",
    "plt.show()"
   ]
  },
  {
   "cell_type": "code",
   "execution_count": 26,
   "id": "dd755e3d",
   "metadata": {
    "execution": {
     "iopub.execute_input": "2023-04-01T11:29:18.323470Z",
     "iopub.status.busy": "2023-04-01T11:29:18.322638Z",
     "iopub.status.idle": "2023-04-01T11:29:18.535165Z",
     "shell.execute_reply": "2023-04-01T11:29:18.534598Z"
    },
    "papermill": {
     "duration": 2.74269,
     "end_time": "2023-04-01T11:29:18.535306",
     "exception": false,
     "start_time": "2023-04-01T11:29:15.792616",
     "status": "completed"
    },
    "tags": []
   },
   "outputs": [
    {
     "data": {
      "image/png": "[encoded data removed]",
      "text/plain": [
       "<Figure size 1080x360 with 1 Axes>"
      ]
     },
     "metadata": {
      "needs_background": "light"
     },
     "output_type": "display_data"
    }
   ],
   "source": [
    "plt.figure(figsize=(15,5))\n",
    "plt.plot(range(model_history.epoch[-1]+1),model_history.history['val_recall'],label='val_recall')\n",
    "plt.plot(range(model_history.epoch[-1]+1),model_history.history['recall'],label='recall')\n",
    "plt.title('recall'); plt.xlabel('Epoch'); plt.ylabel('recall');plt.legend(); \n",
    "plt.show()"
   ]
  }
 ],
 "metadata": {
  "kernelspec": {
   "display_name": "Python 3",
   "language": "python",
   "name": "python3"
  },
  "language_info": {
   "codemirror_mode": {
    "name": "ipython",
    "version": 3
   },
   "file_extension": ".py",
   "mimetype": "text/x-python",
   "name": "python",
   "nbconvert_exporter": "python",
   "pygments_lexer": "ipython3",
   "version": "3.8.8"
  },
  "papermill": {
   "default_parameters": {},
   "duration": 2424.256125,
   "end_time": "2023-04-01T11:29:24.881920",
   "environment_variables": {},
   "exception": null,
   "input_path": "__notebook__.ipynb",
   "output_path": "__notebook__.ipynb",
   "parameters": {},
   "start_time": "2023-04-01T10:49:00.625795",
   "version": "2.3.3"
  },
  "widgets": {
   "application/vnd.jupyter.widget-state+json": {
    "state": {
     "02d11fe4a84d4e8ea98a586925a54348": {
      "model_module": "@jupyter-widgets/controls",
      "model_module_version": "1.5.0",
      "model_name": "HTMLModel",
      "state": {
       "_dom_classes": [],
       "_model_module": "@jupyter-widgets/controls",
       "_model_module_version": "1.5.0",
       "_model_name": "HTMLModel",
       "_view_count": null,
       "_view_module": "@jupyter-widgets/controls",
       "_view_module_version": "1.5.0",
       "_view_name": "HTMLView",
       "description": "",
       "description_tooltip": null,
       "layout": "IPY_MODEL_a9195b831afb4a84a61ed5dfe2f1bddf",
       "placeholder": "​",
       "style": "IPY_MODEL_cac00bc7d815455b8186cdfbeefd8e85",
       "value": " 14300/14300 [00:00&lt;00:00, 15776.57it/s]"
      }
     },
     "048508718c774337a13d569a31496000": {
      "model_module": "@jupyter-widgets/controls",
      "model_module_version": "1.5.0",
      "model_name": "DescriptionStyleModel",
      "state": {
       "_model_module": "@jupyter-widgets/controls",
       "_model_module_version": "1.5.0",
       "_model_name": "DescriptionStyleModel",
       "_view_count": null,
       "_view_module": "@jupyter-widgets/base",
       "_view_module_version": "1.2.0",
       "_view_name": "StyleView",
       "description_width": ""
      }
     },
     "11cb9f928d0549e89136e1744d4c7592": {
      "model_module": "@jupyter-widgets/base",
      "model_module_version": "1.2.0",
      "model_name": "LayoutModel",
      "state": {
       "_model_module": "@jupyter-widgets/base",
       "_model_module_version": "1.2.0",
       "_model_name": "LayoutModel",
       "_view_count": null,
       "_view_module": "@jupyter-widgets/base",
       "_view_module_version": "1.2.0",
       "_view_name": "LayoutView",
       "align_content": null,
       "align_items": null,
       "align_self": null,
       "border": null,
       "bottom": null,
       "display": null,
       "flex": null,
       "flex_flow": null,
       "grid_area": null,
       "grid_auto_columns": null,
       "grid_auto_flow": null,
       "grid_auto_rows": null,
       "grid_column": null,
       "grid_gap": null,
       "grid_row": null,
       "grid_template_areas": null,
       "grid_template_columns": null,
       "grid_template_rows": null,
       "height": null,
       "justify_content": null,
       "justify_items": null,
       "left": null,
       "margin": null,
       "max_height": null,
       "max_width": null,
       "min_height": null,
       "min_width": null,
       "object_fit": null,
       "object_position": null,
       "order": null,
       "overflow": null,
       "overflow_x": null,
       "overflow_y": null,
       "padding": null,
       "right": null,
       "top": null,
       "visibility": null,
       "width": null
      }
     },
     "12a508b86eeb423ea312160e68fc3d50": {
      "model_module": "@jupyter-widgets/controls",
      "model_module_version": "1.5.0",
      "model_name": "HBoxModel",
      "state": {
       "_dom_classes": [],
       "_model_module": "@jupyter-widgets/controls",
       "_model_module_version": "1.5.0",
       "_model_name": "HBoxModel",
       "_view_count": null,
       "_view_module": "@jupyter-widgets/controls",
       "_view_module_version": "1.5.0",
       "_view_name": "HBoxView",
       "box_style": "",
       "children": [
        "IPY_MODEL_e0422f819f13408b984dbf73ebc52c26",
        "IPY_MODEL_687e2c436fb74e2a9d2dbdf5c3ea72f3",
        "IPY_MODEL_b82ad43389a34845951922fab5980a61"
       ],
       "layout": "IPY_MODEL_5aa512b8ecad4db29a91d5729f49e921"
      }
     },
     "1556824f09504815a4966c569870c3b3": {
      "model_module": "@jupyter-widgets/controls",
      "model_module_version": "1.5.0",
      "model_name": "FloatProgressModel",
      "state": {
       "_dom_classes": [],
       "_model_module": "@jupyter-widgets/controls",
       "_model_module_version": "1.5.0",
       "_model_name": "FloatProgressModel",
       "_view_count": null,
       "_view_module": "@jupyter-widgets/controls",
       "_view_module_version": "1.5.0",
       "_view_name": "ProgressView",
       "bar_style": "success",
       "description": "",
       "description_tooltip": null,
       "layout": "IPY_MODEL_f18937cd0d55416cb8196c0dceffe754",
       "max": 456318,
       "min": 0,
       "orientation": "horizontal",
       "style": "IPY_MODEL_737dda21f4114fd3bc1edc77b860a341",
       "value": 456318
      }
     },
     "1d19de9304da447686d6dad511b29171": {
      "model_module": "@jupyter-widgets/controls",
      "model_module_version": "1.5.0",
      "model_name": "DescriptionStyleModel",
      "state": {
       "_model_module": "@jupyter-widgets/controls",
       "_model_module_version": "1.5.0",
       "_model_name": "DescriptionStyleModel",
       "_view_count": null,
       "_view_module": "@jupyter-widgets/base",
       "_view_module_version": "1.2.0",
       "_view_name": "StyleView",
       "description_width": ""
      }
     },
     "27ca145ba8da49439b86e84c5abcd9c5": {
      "model_module": "@jupyter-widgets/controls",
      "model_module_version": "1.5.0",
      "model_name": "ProgressStyleModel",
      "state": {
       "_model_module": "@jupyter-widgets/controls",
       "_model_module_version": "1.5.0",
       "_model_name": "ProgressStyleModel",
       "_view_count": null,
       "_view_module": "@jupyter-widgets/base",
       "_view_module_version": "1.2.0",
       "_view_name": "StyleView",
       "bar_color": null,
       "description_width": ""
      }
     },
     "29114c28e6ee4024a32a3cf4a73d4579": {
      "model_module": "@jupyter-widgets/controls",
      "model_module_version": "1.5.0",
      "model_name": "HBoxModel",
      "state": {
       "_dom_classes": [],
       "_model_module": "@jupyter-widgets/controls",
       "_model_module_version": "1.5.0",
       "_model_name": "HBoxModel",
       "_view_count": null,
       "_view_module": "@jupyter-widgets/controls",
       "_view_module_version": "1.5.0",
       "_view_name": "HBoxView",
       "box_style": "",
       "children": [
        "IPY_MODEL_963f3ee2768547db9772c37531777a8b",
        "IPY_MODEL_1556824f09504815a4966c569870c3b3",
        "IPY_MODEL_859e350f66ac451b84e32862491318f6"
       ],
       "layout": "IPY_MODEL_9e59ef634a004d1c9cda925db4d45483"
      }
     },
     "299b3d9ddd1f4ac79a178ff4de674833": {
      "model_module": "@jupyter-widgets/controls",
      "model_module_version": "1.5.0",
      "model_name": "DescriptionStyleModel",
      "state": {
       "_model_module": "@jupyter-widgets/controls",
       "_model_module_version": "1.5.0",
       "_model_name": "DescriptionStyleModel",
       "_view_count": null,
       "_view_module": "@jupyter-widgets/base",
       "_view_module_version": "1.2.0",
       "_view_name": "StyleView",
       "description_width": ""
      }
     },
     "2dbae141f1be4ec195c4cc04aeae9ff1": {
      "model_module": "@jupyter-widgets/controls",
      "model_module_version": "1.5.0",
      "model_name": "ProgressStyleModel",
      "state": {
       "_model_module": "@jupyter-widgets/controls",
       "_model_module_version": "1.5.0",
       "_model_name": "ProgressStyleModel",
       "_view_count": null,
       "_view_module": "@jupyter-widgets/base",
       "_view_module_version": "1.2.0",
       "_view_name": "StyleView",
       "bar_color": null,
       "description_width": ""
      }
     },
     "2e7507d0b61e47c19400ef85dc8a3992": {
      "model_module": "@jupyter-widgets/controls",
      "model_module_version": "1.5.0",
      "model_name": "FloatProgressModel",
      "state": {
       "_dom_classes": [],
       "_model_module": "@jupyter-widgets/controls",
       "_model_module_version": "1.5.0",
       "_model_name": "FloatProgressModel",
       "_view_count": null,
       "_view_module": "@jupyter-widgets/controls",
       "_view_module_version": "1.5.0",
       "_view_name": "ProgressView",
       "bar_style": "success",
       "description": "",
       "description_tooltip": null,
       "layout": "IPY_MODEL_ff5e6db33eab47149363cf288b0f81fb",
       "max": 898823,
       "min": 0,
       "orientation": "horizontal",
       "style": "IPY_MODEL_ca48e6c01b554ac18a0ed93d547c6aa4",
       "value": 898823
      }
     },
     "3ef4045de1b74fbe9caf7d88d90e0c11": {
      "model_module": "@jupyter-widgets/base",
      "model_module_version": "1.2.0",
      "model_name": "LayoutModel",
      "state": {
       "_model_module": "@jupyter-widgets/base",
       "_model_module_version": "1.2.0",
       "_model_name": "LayoutModel",
       "_view_count": null,
       "_view_module": "@jupyter-widgets/base",
       "_view_module_version": "1.2.0",
       "_view_name": "LayoutView",
       "align_content": null,
       "align_items": null,
       "align_self": null,
       "border": null,
       "bottom": null,
       "display": null,
       "flex": null,
       "flex_flow": null,
       "grid_area": null,
       "grid_auto_columns": null,
       "grid_auto_flow": null,
       "grid_auto_rows": null,
       "grid_column": null,
       "grid_gap": null,
       "grid_row": null,
       "grid_template_areas": null,
       "grid_template_columns": null,
       "grid_template_rows": null,
       "height": null,
       "justify_content": null,
       "justify_items": null,
       "left": null,
       "margin": null,
       "max_height": null,
       "max_width": null,
       "min_height": null,
       "min_width": null,
       "object_fit": null,
       "object_position": null,
       "order": null,
       "overflow": null,
       "overflow_x": null,
       "overflow_y": null,
       "padding": null,
       "right": null,
       "top": null,
       "visibility": null,
       "width": null
      }
     },
     "41737c36527e4c59b1bc41309c578c56": {
      "model_module": "@jupyter-widgets/base",
      "model_module_version": "1.2.0",
      "model_name": "LayoutModel",
      "state": {
       "_model_module": "@jupyter-widgets/base",
       "_model_module_version": "1.2.0",
       "_model_name": "LayoutModel",
       "_view_count": null,
       "_view_module": "@jupyter-widgets/base",
       "_view_module_version": "1.2.0",
       "_view_name": "LayoutView",
       "align_content": null,
       "align_items": null,
       "align_self": null,
       "border": null,
       "bottom": null,
       "display": null,
       "flex": null,
       "flex_flow": null,
       "grid_area": null,
       "grid_auto_columns": null,
       "grid_auto_flow": null,
       "grid_auto_rows": null,
       "grid_column": null,
       "grid_gap": null,
       "grid_row": null,
       "grid_template_areas": null,
       "grid_template_columns": null,
       "grid_template_rows": null,
       "height": null,
       "justify_content": null,
       "justify_items": null,
       "left": null,
       "margin": null,
       "max_height": null,
       "max_width": null,
       "min_height": null,
       "min_width": null,
       "object_fit": null,
       "object_position": null,
       "order": null,
       "overflow": null,
       "overflow_x": null,
       "overflow_y": null,
       "padding": null,
       "right": null,
       "top": null,
       "visibility": null,
       "width": null
      }
     },
     "43b7a18c209240959c6ac34ea1dfa69e": {
      "model_module": "@jupyter-widgets/controls",
      "model_module_version": "1.5.0",
      "model_name": "HTMLModel",
      "state": {
       "_dom_classes": [],
       "_model_module": "@jupyter-widgets/controls",
       "_model_module_version": "1.5.0",
       "_model_name": "HTMLModel",
       "_view_count": null,
       "_view_module": "@jupyter-widgets/controls",
       "_view_module_version": "1.5.0",
       "_view_name": "HTMLView",
       "description": "",
       "description_tooltip": null,
       "layout": "IPY_MODEL_3ef4045de1b74fbe9caf7d88d90e0c11",
       "placeholder": "​",
       "style": "IPY_MODEL_c1a4d0bac8af418baffb8a170e692176",
       "value": " 481/481 [00:00&lt;00:00, 19.7kB/s]"
      }
     },
     "4e4d19571a4147738b43f70290ff0cf3": {
      "model_module": "@jupyter-widgets/controls",
      "model_module_version": "1.5.0",
      "model_name": "HTMLModel",
      "state": {
       "_dom_classes": [],
       "_model_module": "@jupyter-widgets/controls",
       "_model_module_version": "1.5.0",
       "_model_name": "HTMLModel",
       "_view_count": null,
       "_view_module": "@jupyter-widgets/controls",
       "_view_module_version": "1.5.0",
       "_view_name": "HTMLView",
       "description": "",
       "description_tooltip": null,
       "layout": "IPY_MODEL_9e764068754849668256bdaaf0a2464c",
       "placeholder": "​",
       "style": "IPY_MODEL_a5439a3e7b3348c3b95b3f09c4555406",
       "value": " 878k/878k [00:00&lt;00:00, 1.43MB/s]"
      }
     },
     "54724941a1154e8a9c03e414244c0cb7": {
      "model_module": "@jupyter-widgets/controls",
      "model_module_version": "1.5.0",
      "model_name": "DescriptionStyleModel",
      "state": {
       "_model_module": "@jupyter-widgets/controls",
       "_model_module_version": "1.5.0",
       "_model_name": "DescriptionStyleModel",
       "_view_count": null,
       "_view_module": "@jupyter-widgets/base",
       "_view_module_version": "1.2.0",
       "_view_name": "StyleView",
       "description_width": ""
      }
     },
     "5626891e9fc1411690cf7f34f5d70dc7": {
      "model_module": "@jupyter-widgets/controls",
      "model_module_version": "1.5.0",
      "model_name": "HTMLModel",
      "state": {
       "_dom_classes": [],
       "_model_module": "@jupyter-widgets/controls",
       "_model_module_version": "1.5.0",
       "_model_name": "HTMLModel",
       "_view_count": null,
       "_view_module": "@jupyter-widgets/controls",
       "_view_module_version": "1.5.0",
       "_view_name": "HTMLView",
       "description": "",
       "description_tooltip": null,
       "layout": "IPY_MODEL_c6458fb3fb68420f9a54b37f20e32875",
       "placeholder": "​",
       "style": "IPY_MODEL_048508718c774337a13d569a31496000",
       "value": "Downloading: 100%"
      }
     },
     "590a9448447446d881175136b0a7f414": {
      "model_module": "@jupyter-widgets/controls",
      "model_module_version": "1.5.0",
      "model_name": "DescriptionStyleModel",
      "state": {
       "_model_module": "@jupyter-widgets/controls",
       "_model_module_version": "1.5.0",
       "_model_name": "DescriptionStyleModel",
       "_view_count": null,
       "_view_module": "@jupyter-widgets/base",
       "_view_module_version": "1.2.0",
       "_view_name": "StyleView",
       "description_width": ""
      }
     },
     "5aa512b8ecad4db29a91d5729f49e921": {
      "model_module": "@jupyter-widgets/base",
      "model_module_version": "1.2.0",
      "model_name": "LayoutModel",
      "state": {
       "_model_module": "@jupyter-widgets/base",
       "_model_module_version": "1.2.0",
       "_model_name": "LayoutModel",
       "_view_count": null,
       "_view_module": "@jupyter-widgets/base",
       "_view_module_version": "1.2.0",
       "_view_name": "LayoutView",
       "align_content": null,
       "align_items": null,
       "align_self": null,
       "border": null,
       "bottom": null,
       "display": null,
       "flex": null,
       "flex_flow": null,
       "grid_area": null,
       "grid_auto_columns": null,
       "grid_auto_flow": null,
       "grid_auto_rows": null,
       "grid_column": null,
       "grid_gap": null,
       "grid_row": null,
       "grid_template_areas": null,
       "grid_template_columns": null,
       "grid_template_rows": null,
       "height": null,
       "justify_content": null,
       "justify_items": null,
       "left": null,
       "margin": null,
       "max_height": null,
       "max_width": null,
       "min_height": null,
       "min_width": null,
       "object_fit": null,
       "object_position": null,
       "order": null,
       "overflow": null,
       "overflow_x": null,
       "overflow_y": null,
       "padding": null,
       "right": null,
       "top": null,
       "visibility": null,
       "width": null
      }
     },
     "61a216119f0c4ecbafca738558091b56": {
      "model_module": "@jupyter-widgets/controls",
      "model_module_version": "1.5.0",
      "model_name": "DescriptionStyleModel",
      "state": {
       "_model_module": "@jupyter-widgets/controls",
       "_model_module_version": "1.5.0",
       "_model_name": "DescriptionStyleModel",
       "_view_count": null,
       "_view_module": "@jupyter-widgets/base",
       "_view_module_version": "1.2.0",
       "_view_name": "StyleView",
       "description_width": ""
      }
     },
     "61fae5cffa7c4db78a1e92c2eaf6a479": {
      "model_module": "@jupyter-widgets/base",
      "model_module_version": "1.2.0",
      "model_name": "LayoutModel",
      "state": {
       "_model_module": "@jupyter-widgets/base",
       "_model_module_version": "1.2.0",
       "_model_name": "LayoutModel",
       "_view_count": null,
       "_view_module": "@jupyter-widgets/base",
       "_view_module_version": "1.2.0",
       "_view_name": "LayoutView",
       "align_content": null,
       "align_items": null,
       "align_self": null,
       "border": null,
       "bottom": null,
       "display": null,
       "flex": null,
       "flex_flow": null,
       "grid_area": null,
       "grid_auto_columns": null,
       "grid_auto_flow": null,
       "grid_auto_rows": null,
       "grid_column": null,
       "grid_gap": null,
       "grid_row": null,
       "grid_template_areas": null,
       "grid_template_columns": null,
       "grid_template_rows": null,
       "height": null,
       "justify_content": null,
       "justify_items": null,
       "left": null,
       "margin": null,
       "max_height": null,
       "max_width": null,
       "min_height": null,
       "min_width": null,
       "object_fit": null,
       "object_position": null,
       "order": null,
       "overflow": null,
       "overflow_x": null,
       "overflow_y": null,
       "padding": null,
       "right": null,
       "top": null,
       "visibility": null,
       "width": null
      }
     },
     "65d8521bc16346fcaf9fda4ecc681c88": {
      "model_module": "@jupyter-widgets/controls",
      "model_module_version": "1.5.0",
      "model_name": "HTMLModel",
      "state": {
       "_dom_classes": [],
       "_model_module": "@jupyter-widgets/controls",
       "_model_module_version": "1.5.0",
       "_model_name": "HTMLModel",
       "_view_count": null,
       "_view_module": "@jupyter-widgets/controls",
       "_view_module_version": "1.5.0",
       "_view_name": "HTMLView",
       "description": "",
       "description_tooltip": null,
       "layout": "IPY_MODEL_d17ddbd074f845e5a28b3089a9aae754",
       "placeholder": "​",
       "style": "IPY_MODEL_590a9448447446d881175136b0a7f414",
       "value": "100%"
      }
     },
     "67a40f82b84d42f3b8089ae5fb07192a": {
      "model_module": "@jupyter-widgets/controls",
      "model_module_version": "1.5.0",
      "model_name": "DescriptionStyleModel",
      "state": {
       "_model_module": "@jupyter-widgets/controls",
       "_model_module_version": "1.5.0",
       "_model_name": "DescriptionStyleModel",
       "_view_count": null,
       "_view_module": "@jupyter-widgets/base",
       "_view_module_version": "1.2.0",
       "_view_name": "StyleView",
       "description_width": ""
      }
     },
     "687e2c436fb74e2a9d2dbdf5c3ea72f3": {
      "model_module": "@jupyter-widgets/controls",
      "model_module_version": "1.5.0",
      "model_name": "FloatProgressModel",
      "state": {
       "_dom_classes": [],
       "_model_module": "@jupyter-widgets/controls",
       "_model_module_version": "1.5.0",
       "_model_name": "FloatProgressModel",
       "_view_count": null,
       "_view_module": "@jupyter-widgets/controls",
       "_view_module_version": "1.5.0",
       "_view_name": "ProgressView",
       "bar_style": "success",
       "description": "",
       "description_tooltip": null,
       "layout": "IPY_MODEL_adba68b7d819463a9806285e4c9ff387",
       "max": 657434796,
       "min": 0,
       "orientation": "horizontal",
       "style": "IPY_MODEL_7aa08160d841430baca1213ad620d5e5",
       "value": 657434796
      }
     },
     "6b46bb6bb4664e948c7bb370e972b200": {
      "model_module": "@jupyter-widgets/controls",
      "model_module_version": "1.5.0",
      "model_name": "DescriptionStyleModel",
      "state": {
       "_model_module": "@jupyter-widgets/controls",
       "_model_module_version": "1.5.0",
       "_model_name": "DescriptionStyleModel",
       "_view_count": null,
       "_view_module": "@jupyter-widgets/base",
       "_view_module_version": "1.2.0",
       "_view_name": "StyleView",
       "description_width": ""
      }
     },
     "7031c57c2d8e4ad7b14641c7305ddc51": {
      "model_module": "@jupyter-widgets/base",
      "model_module_version": "1.2.0",
      "model_name": "LayoutModel",
      "state": {
       "_model_module": "@jupyter-widgets/base",
       "_model_module_version": "1.2.0",
       "_model_name": "LayoutModel",
       "_view_count": null,
       "_view_module": "@jupyter-widgets/base",
       "_view_module_version": "1.2.0",
       "_view_name": "LayoutView",
       "align_content": null,
       "align_items": null,
       "align_self": null,
       "border": null,
       "bottom": null,
       "display": null,
       "flex": null,
       "flex_flow": null,
       "grid_area": null,
       "grid_auto_columns": null,
       "grid_auto_flow": null,
       "grid_auto_rows": null,
       "grid_column": null,
       "grid_gap": null,
       "grid_row": null,
       "grid_template_areas": null,
       "grid_template_columns": null,
       "grid_template_rows": null,
       "height": null,
       "justify_content": null,
       "justify_items": null,
       "left": null,
       "margin": null,
       "max_height": null,
       "max_width": null,
       "min_height": null,
       "min_width": null,
       "object_fit": null,
       "object_position": null,
       "order": null,
       "overflow": null,
       "overflow_x": null,
       "overflow_y": null,
       "padding": null,
       "right": null,
       "top": null,
       "visibility": null,
       "width": null
      }
     },
     "7170df0867b24cfeae4b2418e5861002": {
      "model_module": "@jupyter-widgets/controls",
      "model_module_version": "1.5.0",
      "model_name": "DescriptionStyleModel",
      "state": {
       "_model_module": "@jupyter-widgets/controls",
       "_model_module_version": "1.5.0",
       "_model_name": "DescriptionStyleModel",
       "_view_count": null,
       "_view_module": "@jupyter-widgets/base",
       "_view_module_version": "1.2.0",
       "_view_name": "StyleView",
       "description_width": ""
      }
     },
     "73258313283d4f3d91269563dab398a6": {
      "model_module": "@jupyter-widgets/base",
      "model_module_version": "1.2.0",
      "model_name": "LayoutModel",
      "state": {
       "_model_module": "@jupyter-widgets/base",
       "_model_module_version": "1.2.0",
       "_model_name": "LayoutModel",
       "_view_count": null,
       "_view_module": "@jupyter-widgets/base",
       "_view_module_version": "1.2.0",
       "_view_name": "LayoutView",
       "align_content": null,
       "align_items": null,
       "align_self": null,
       "border": null,
       "bottom": null,
       "display": null,
       "flex": null,
       "flex_flow": null,
       "grid_area": null,
       "grid_auto_columns": null,
       "grid_auto_flow": null,
       "grid_auto_rows": null,
       "grid_column": null,
       "grid_gap": null,
       "grid_row": null,
       "grid_template_areas": null,
       "grid_template_columns": null,
       "grid_template_rows": null,
       "height": null,
       "justify_content": null,
       "justify_items": null,
       "left": null,
       "margin": null,
       "max_height": null,
       "max_width": null,
       "min_height": null,
       "min_width": null,
       "object_fit": null,
       "object_position": null,
       "order": null,
       "overflow": null,
       "overflow_x": null,
       "overflow_y": null,
       "padding": null,
       "right": null,
       "top": null,
       "visibility": null,
       "width": null
      }
     },
     "733b20b8a30e40399b20f2010f6dbe76": {
      "model_module": "@jupyter-widgets/base",
      "model_module_version": "1.2.0",
      "model_name": "LayoutModel",
      "state": {
       "_model_module": "@jupyter-widgets/base",
       "_model_module_version": "1.2.0",
       "_model_name": "LayoutModel",
       "_view_count": null,
       "_view_module": "@jupyter-widgets/base",
       "_view_module_version": "1.2.0",
       "_view_name": "LayoutView",
       "align_content": null,
       "align_items": null,
       "align_self": null,
       "border": null,
       "bottom": null,
       "display": null,
       "flex": null,
       "flex_flow": null,
       "grid_area": null,
       "grid_auto_columns": null,
       "grid_auto_flow": null,
       "grid_auto_rows": null,
       "grid_column": null,
       "grid_gap": null,
       "grid_row": null,
       "grid_template_areas": null,
       "grid_template_columns": null,
       "grid_template_rows": null,
       "height": null,
       "justify_content": null,
       "justify_items": null,
       "left": null,
       "margin": null,
       "max_height": null,
       "max_width": null,
       "min_height": null,
       "min_width": null,
       "object_fit": null,
       "object_position": null,
       "order": null,
       "overflow": null,
       "overflow_x": null,
       "overflow_y": null,
       "padding": null,
       "right": null,
       "top": null,
       "visibility": null,
       "width": null
      }
     },
     "737dda21f4114fd3bc1edc77b860a341": {
      "model_module": "@jupyter-widgets/controls",
      "model_module_version": "1.5.0",
      "model_name": "ProgressStyleModel",
      "state": {
       "_model_module": "@jupyter-widgets/controls",
       "_model_module_version": "1.5.0",
       "_model_name": "ProgressStyleModel",
       "_view_count": null,
       "_view_module": "@jupyter-widgets/base",
       "_view_module_version": "1.2.0",
       "_view_name": "StyleView",
       "bar_color": null,
       "description_width": ""
      }
     },
     "76c6d6e46ef843058aefe2e67d3412c3": {
      "model_module": "@jupyter-widgets/base",
      "model_module_version": "1.2.0",
      "model_name": "LayoutModel",
      "state": {
       "_model_module": "@jupyter-widgets/base",
       "_model_module_version": "1.2.0",
       "_model_name": "LayoutModel",
       "_view_count": null,
       "_view_module": "@jupyter-widgets/base",
       "_view_module_version": "1.2.0",
       "_view_name": "LayoutView",
       "align_content": null,
       "align_items": null,
       "align_self": null,
       "border": null,
       "bottom": null,
       "display": null,
       "flex": null,
       "flex_flow": null,
       "grid_area": null,
       "grid_auto_columns": null,
       "grid_auto_flow": null,
       "grid_auto_rows": null,
       "grid_column": null,
       "grid_gap": null,
       "grid_row": null,
       "grid_template_areas": null,
       "grid_template_columns": null,
       "grid_template_rows": null,
       "height": null,
       "justify_content": null,
       "justify_items": null,
       "left": null,
       "margin": null,
       "max_height": null,
       "max_width": null,
       "min_height": null,
       "min_width": null,
       "object_fit": null,
       "object_position": null,
       "order": null,
       "overflow": null,
       "overflow_x": null,
       "overflow_y": null,
       "padding": null,
       "right": null,
       "top": null,
       "visibility": null,
       "width": null
      }
     },
     "77138f119d3746a3b1b47572c657e1ee": {
      "model_module": "@jupyter-widgets/base",
      "model_module_version": "1.2.0",
      "model_name": "LayoutModel",
      "state": {
       "_model_module": "@jupyter-widgets/base",
       "_model_module_version": "1.2.0",
       "_model_name": "LayoutModel",
       "_view_count": null,
       "_view_module": "@jupyter-widgets/base",
       "_view_module_version": "1.2.0",
       "_view_name": "LayoutView",
       "align_content": null,
       "align_items": null,
       "align_self": null,
       "border": null,
       "bottom": null,
       "display": null,
       "flex": null,
       "flex_flow": null,
       "grid_area": null,
       "grid_auto_columns": null,
       "grid_auto_flow": null,
       "grid_auto_rows": null,
       "grid_column": null,
       "grid_gap": null,
       "grid_row": null,
       "grid_template_areas": null,
       "grid_template_columns": null,
       "grid_template_rows": null,
       "height": null,
       "justify_content": null,
       "justify_items": null,
       "left": null,
       "margin": null,
       "max_height": null,
       "max_width": null,
       "min_height": null,
       "min_width": null,
       "object_fit": null,
       "object_position": null,
       "order": null,
       "overflow": null,
       "overflow_x": null,
       "overflow_y": null,
       "padding": null,
       "right": null,
       "top": null,
       "visibility": null,
       "width": null
      }
     },
     "7aa08160d841430baca1213ad620d5e5": {
      "model_module": "@jupyter-widgets/controls",
      "model_module_version": "1.5.0",
      "model_name": "ProgressStyleModel",
      "state": {
       "_model_module": "@jupyter-widgets/controls",
       "_model_module_version": "1.5.0",
       "_model_name": "ProgressStyleModel",
       "_view_count": null,
       "_view_module": "@jupyter-widgets/base",
       "_view_module_version": "1.2.0",
       "_view_name": "StyleView",
       "bar_color": null,
       "description_width": ""
      }
     },
     "820afdb30fe2491abb911413fe4d10ad": {
      "model_module": "@jupyter-widgets/controls",
      "model_module_version": "1.5.0",
      "model_name": "ProgressStyleModel",
      "state": {
       "_model_module": "@jupyter-widgets/controls",
       "_model_module_version": "1.5.0",
       "_model_name": "ProgressStyleModel",
       "_view_count": null,
       "_view_module": "@jupyter-widgets/base",
       "_view_module_version": "1.2.0",
       "_view_name": "StyleView",
       "bar_color": null,
       "description_width": ""
      }
     },
     "85859a0319ab43f189ca620ab5ed81ba": {
      "model_module": "@jupyter-widgets/controls",
      "model_module_version": "1.5.0",
      "model_name": "DescriptionStyleModel",
      "state": {
       "_model_module": "@jupyter-widgets/controls",
       "_model_module_version": "1.5.0",
       "_model_name": "DescriptionStyleModel",
       "_view_count": null,
       "_view_module": "@jupyter-widgets/base",
       "_view_module_version": "1.2.0",
       "_view_name": "StyleView",
       "description_width": ""
      }
     },
     "859e350f66ac451b84e32862491318f6": {
      "model_module": "@jupyter-widgets/controls",
      "model_module_version": "1.5.0",
      "model_name": "HTMLModel",
      "state": {
       "_dom_classes": [],
       "_model_module": "@jupyter-widgets/controls",
       "_model_module_version": "1.5.0",
       "_model_name": "HTMLModel",
       "_view_count": null,
       "_view_module": "@jupyter-widgets/controls",
       "_view_module_version": "1.5.0",
       "_view_name": "HTMLView",
       "description": "",
       "description_tooltip": null,
       "layout": "IPY_MODEL_e80f9cb78d2e456696aa83e2e38f96c9",
       "placeholder": "​",
       "style": "IPY_MODEL_54724941a1154e8a9c03e414244c0cb7",
       "value": " 446k/446k [00:00&lt;00:00, 809kB/s]"
      }
     },
     "85deee8e3e9b42eca69af677cbe3f19b": {
      "model_module": "@jupyter-widgets/controls",
      "model_module_version": "1.5.0",
      "model_name": "HBoxModel",
      "state": {
       "_dom_classes": [],
       "_model_module": "@jupyter-widgets/controls",
       "_model_module_version": "1.5.0",
       "_model_name": "HBoxModel",
       "_view_count": null,
       "_view_module": "@jupyter-widgets/controls",
       "_view_module_version": "1.5.0",
       "_view_name": "HBoxView",
       "box_style": "",
       "children": [
        "IPY_MODEL_e69b2a9884dd4fdebe6d2537995a1655",
        "IPY_MODEL_98c973dfdd29411a85bae39d38d03472",
        "IPY_MODEL_43b7a18c209240959c6ac34ea1dfa69e"
       ],
       "layout": "IPY_MODEL_95b24c92ebd4437fbf7f435a6d92dfc9"
      }
     },
     "87134ca19d9c44878e2aeecfecb566c7": {
      "model_module": "@jupyter-widgets/controls",
      "model_module_version": "1.5.0",
      "model_name": "HBoxModel",
      "state": {
       "_dom_classes": [],
       "_model_module": "@jupyter-widgets/controls",
       "_model_module_version": "1.5.0",
       "_model_name": "HBoxModel",
       "_view_count": null,
       "_view_module": "@jupyter-widgets/controls",
       "_view_module_version": "1.5.0",
       "_view_name": "HBoxView",
       "box_style": "",
       "children": [
        "IPY_MODEL_fd086755a7324814ae7f73111cd18664",
        "IPY_MODEL_9c964076ea4443d2bcbebbc6f90041c8",
        "IPY_MODEL_02d11fe4a84d4e8ea98a586925a54348"
       ],
       "layout": "IPY_MODEL_77138f119d3746a3b1b47572c657e1ee"
      }
     },
     "88ade91d8dac402f951720cc58affc21": {
      "model_module": "@jupyter-widgets/base",
      "model_module_version": "1.2.0",
      "model_name": "LayoutModel",
      "state": {
       "_model_module": "@jupyter-widgets/base",
       "_model_module_version": "1.2.0",
       "_model_name": "LayoutModel",
       "_view_count": null,
       "_view_module": "@jupyter-widgets/base",
       "_view_module_version": "1.2.0",
       "_view_name": "LayoutView",
       "align_content": null,
       "align_items": null,
       "align_self": null,
       "border": null,
       "bottom": null,
       "display": null,
       "flex": null,
       "flex_flow": null,
       "grid_area": null,
       "grid_auto_columns": null,
       "grid_auto_flow": null,
       "grid_auto_rows": null,
       "grid_column": null,
       "grid_gap": null,
       "grid_row": null,
       "grid_template_areas": null,
       "grid_template_columns": null,
       "grid_template_rows": null,
       "height": null,
       "justify_content": null,
       "justify_items": null,
       "left": null,
       "margin": null,
       "max_height": null,
       "max_width": null,
       "min_height": null,
       "min_width": null,
       "object_fit": null,
       "object_position": null,
       "order": null,
       "overflow": null,
       "overflow_x": null,
       "overflow_y": null,
       "padding": null,
       "right": null,
       "top": null,
       "visibility": null,
       "width": null
      }
     },
     "95b24c92ebd4437fbf7f435a6d92dfc9": {
      "model_module": "@jupyter-widgets/base",
      "model_module_version": "1.2.0",
      "model_name": "LayoutModel",
      "state": {
       "_model_module": "@jupyter-widgets/base",
       "_model_module_version": "1.2.0",
       "_model_name": "LayoutModel",
       "_view_count": null,
       "_view_module": "@jupyter-widgets/base",
       "_view_module_version": "1.2.0",
       "_view_name": "LayoutView",
       "align_content": null,
       "align_items": null,
       "align_self": null,
       "border": null,
       "bottom": null,
       "display": null,
       "flex": null,
       "flex_flow": null,
       "grid_area": null,
       "grid_auto_columns": null,
       "grid_auto_flow": null,
       "grid_auto_rows": null,
       "grid_column": null,
       "grid_gap": null,
       "grid_row": null,
       "grid_template_areas": null,
       "grid_template_columns": null,
       "grid_template_rows": null,
       "height": null,
       "justify_content": null,
       "justify_items": null,
       "left": null,
       "margin": null,
       "max_height": null,
       "max_width": null,
       "min_height": null,
       "min_width": null,
       "object_fit": null,
       "object_position": null,
       "order": null,
       "overflow": null,
       "overflow_x": null,
       "overflow_y": null,
       "padding": null,
       "right": null,
       "top": null,
       "visibility": null,
       "width": null
      }
     },
     "963f3ee2768547db9772c37531777a8b": {
      "model_module": "@jupyter-widgets/controls",
      "model_module_version": "1.5.0",
      "model_name": "HTMLModel",
      "state": {
       "_dom_classes": [],
       "_model_module": "@jupyter-widgets/controls",
       "_model_module_version": "1.5.0",
       "_model_name": "HTMLModel",
       "_view_count": null,
       "_view_module": "@jupyter-widgets/controls",
       "_view_module_version": "1.5.0",
       "_view_name": "HTMLView",
       "description": "",
       "description_tooltip": null,
       "layout": "IPY_MODEL_b53708bec46c4934974f4a03545ffc95",
       "placeholder": "​",
       "style": "IPY_MODEL_85859a0319ab43f189ca620ab5ed81ba",
       "value": "Downloading: 100%"
      }
     },
     "98c973dfdd29411a85bae39d38d03472": {
      "model_module": "@jupyter-widgets/controls",
      "model_module_version": "1.5.0",
      "model_name": "FloatProgressModel",
      "state": {
       "_dom_classes": [],
       "_model_module": "@jupyter-widgets/controls",
       "_model_module_version": "1.5.0",
       "_model_name": "FloatProgressModel",
       "_view_count": null,
       "_view_module": "@jupyter-widgets/controls",
       "_view_module_version": "1.5.0",
       "_view_name": "ProgressView",
       "bar_style": "success",
       "description": "",
       "description_tooltip": null,
       "layout": "IPY_MODEL_76c6d6e46ef843058aefe2e67d3412c3",
       "max": 481,
       "min": 0,
       "orientation": "horizontal",
       "style": "IPY_MODEL_2dbae141f1be4ec195c4cc04aeae9ff1",
       "value": 481
      }
     },
     "9aa07f4ece154dfda2a3223d22c283aa": {
      "model_module": "@jupyter-widgets/controls",
      "model_module_version": "1.5.0",
      "model_name": "HTMLModel",
      "state": {
       "_dom_classes": [],
       "_model_module": "@jupyter-widgets/controls",
       "_model_module_version": "1.5.0",
       "_model_name": "HTMLModel",
       "_view_count": null,
       "_view_module": "@jupyter-widgets/controls",
       "_view_module_version": "1.5.0",
       "_view_name": "HTMLView",
       "description": "",
       "description_tooltip": null,
       "layout": "IPY_MODEL_a36ce02afb40409f9b9fa7dd099edccf",
       "placeholder": "​",
       "style": "IPY_MODEL_67a40f82b84d42f3b8089ae5fb07192a",
       "value": " 1.29M/1.29M [00:00&lt;00:00, 4.53MB/s]"
      }
     },
     "9c964076ea4443d2bcbebbc6f90041c8": {
      "model_module": "@jupyter-widgets/controls",
      "model_module_version": "1.5.0",
      "model_name": "FloatProgressModel",
      "state": {
       "_dom_classes": [],
       "_model_module": "@jupyter-widgets/controls",
       "_model_module_version": "1.5.0",
       "_model_name": "FloatProgressModel",
       "_view_count": null,
       "_view_module": "@jupyter-widgets/controls",
       "_view_module_version": "1.5.0",
       "_view_name": "ProgressView",
       "bar_style": "success",
       "description": "",
       "description_tooltip": null,
       "layout": "IPY_MODEL_11cb9f928d0549e89136e1744d4c7592",
       "max": 14300,
       "min": 0,
       "orientation": "horizontal",
       "style": "IPY_MODEL_820afdb30fe2491abb911413fe4d10ad",
       "value": 14300
      }
     },
     "9e59ef634a004d1c9cda925db4d45483": {
      "model_module": "@jupyter-widgets/base",
      "model_module_version": "1.2.0",
      "model_name": "LayoutModel",
      "state": {
       "_model_module": "@jupyter-widgets/base",
       "_model_module_version": "1.2.0",
       "_model_name": "LayoutModel",
       "_view_count": null,
       "_view_module": "@jupyter-widgets/base",
       "_view_module_version": "1.2.0",
       "_view_name": "LayoutView",
       "align_content": null,
       "align_items": null,
       "align_self": null,
       "border": null,
       "bottom": null,
       "display": null,
       "flex": null,
       "flex_flow": null,
       "grid_area": null,
       "grid_auto_columns": null,
       "grid_auto_flow": null,
       "grid_auto_rows": null,
       "grid_column": null,
       "grid_gap": null,
       "grid_row": null,
       "grid_template_areas": null,
       "grid_template_columns": null,
       "grid_template_rows": null,
       "height": null,
       "justify_content": null,
       "justify_items": null,
       "left": null,
       "margin": null,
       "max_height": null,
       "max_width": null,
       "min_height": null,
       "min_width": null,
       "object_fit": null,
       "object_position": null,
       "order": null,
       "overflow": null,
       "overflow_x": null,
       "overflow_y": null,
       "padding": null,
       "right": null,
       "top": null,
       "visibility": null,
       "width": null
      }
     },
     "9e764068754849668256bdaaf0a2464c": {
      "model_module": "@jupyter-widgets/base",
      "model_module_version": "1.2.0",
      "model_name": "LayoutModel",
      "state": {
       "_model_module": "@jupyter-widgets/base",
       "_model_module_version": "1.2.0",
       "_model_name": "LayoutModel",
       "_view_count": null,
       "_view_module": "@jupyter-widgets/base",
       "_view_module_version": "1.2.0",
       "_view_name": "LayoutView",
       "align_content": null,
       "align_items": null,
       "align_self": null,
       "border": null,
       "bottom": null,
       "display": null,
       "flex": null,
       "flex_flow": null,
       "grid_area": null,
       "grid_auto_columns": null,
       "grid_auto_flow": null,
       "grid_auto_rows": null,
       "grid_column": null,
       "grid_gap": null,
       "grid_row": null,
       "grid_template_areas": null,
       "grid_template_columns": null,
       "grid_template_rows": null,
       "height": null,
       "justify_content": null,
       "justify_items": null,
       "left": null,
       "margin": null,
       "max_height": null,
       "max_width": null,
       "min_height": null,
       "min_width": null,
       "object_fit": null,
       "object_position": null,
       "order": null,
       "overflow": null,
       "overflow_x": null,
       "overflow_y": null,
       "padding": null,
       "right": null,
       "top": null,
       "visibility": null,
       "width": null
      }
     },
     "a36ce02afb40409f9b9fa7dd099edccf": {
      "model_module": "@jupyter-widgets/base",
      "model_module_version": "1.2.0",
      "model_name": "LayoutModel",
      "state": {
       "_model_module": "@jupyter-widgets/base",
       "_model_module_version": "1.2.0",
       "_model_name": "LayoutModel",
       "_view_count": null,
       "_view_module": "@jupyter-widgets/base",
       "_view_module_version": "1.2.0",
       "_view_name": "LayoutView",
       "align_content": null,
       "align_items": null,
       "align_self": null,
       "border": null,
       "bottom": null,
       "display": null,
       "flex": null,
       "flex_flow": null,
       "grid_area": null,
       "grid_auto_columns": null,
       "grid_auto_flow": null,
       "grid_auto_rows": null,
       "grid_column": null,
       "grid_gap": null,
       "grid_row": null,
       "grid_template_areas": null,
       "grid_template_columns": null,
       "grid_template_rows": null,
       "height": null,
       "justify_content": null,
       "justify_items": null,
       "left": null,
       "margin": null,
       "max_height": null,
       "max_width": null,
       "min_height": null,
       "min_width": null,
       "object_fit": null,
       "object_position": null,
       "order": null,
       "overflow": null,
       "overflow_x": null,
       "overflow_y": null,
       "padding": null,
       "right": null,
       "top": null,
       "visibility": null,
       "width": null
      }
     },
     "a5439a3e7b3348c3b95b3f09c4555406": {
      "model_module": "@jupyter-widgets/controls",
      "model_module_version": "1.5.0",
      "model_name": "DescriptionStyleModel",
      "state": {
       "_model_module": "@jupyter-widgets/controls",
       "_model_module_version": "1.5.0",
       "_model_name": "DescriptionStyleModel",
       "_view_count": null,
       "_view_module": "@jupyter-widgets/base",
       "_view_module_version": "1.2.0",
       "_view_name": "StyleView",
       "description_width": ""
      }
     },
     "a9195b831afb4a84a61ed5dfe2f1bddf": {
      "model_module": "@jupyter-widgets/base",
      "model_module_version": "1.2.0",
      "model_name": "LayoutModel",
      "state": {
       "_model_module": "@jupyter-widgets/base",
       "_model_module_version": "1.2.0",
       "_model_name": "LayoutModel",
       "_view_count": null,
       "_view_module": "@jupyter-widgets/base",
       "_view_module_version": "1.2.0",
       "_view_name": "LayoutView",
       "align_content": null,
       "align_items": null,
       "align_self": null,
       "border": null,
       "bottom": null,
       "display": null,
       "flex": null,
       "flex_flow": null,
       "grid_area": null,
       "grid_auto_columns": null,
       "grid_auto_flow": null,
       "grid_auto_rows": null,
       "grid_column": null,
       "grid_gap": null,
       "grid_row": null,
       "grid_template_areas": null,
       "grid_template_columns": null,
       "grid_template_rows": null,
       "height": null,
       "justify_content": null,
       "justify_items": null,
       "left": null,
       "margin": null,
       "max_height": null,
       "max_width": null,
       "min_height": null,
       "min_width": null,
       "object_fit": null,
       "object_position": null,
       "order": null,
       "overflow": null,
       "overflow_x": null,
       "overflow_y": null,
       "padding": null,
       "right": null,
       "top": null,
       "visibility": null,
       "width": null
      }
     },
     "adba68b7d819463a9806285e4c9ff387": {
      "model_module": "@jupyter-widgets/base",
      "model_module_version": "1.2.0",
      "model_name": "LayoutModel",
      "state": {
       "_model_module": "@jupyter-widgets/base",
       "_model_module_version": "1.2.0",
       "_model_name": "LayoutModel",
       "_view_count": null,
       "_view_module": "@jupyter-widgets/base",
       "_view_module_version": "1.2.0",
       "_view_name": "LayoutView",
       "align_content": null,
       "align_items": null,
       "align_self": null,
       "border": null,
       "bottom": null,
       "display": null,
       "flex": null,
       "flex_flow": null,
       "grid_area": null,
       "grid_auto_columns": null,
       "grid_auto_flow": null,
       "grid_auto_rows": null,
       "grid_column": null,
       "grid_gap": null,
       "grid_row": null,
       "grid_template_areas": null,
       "grid_template_columns": null,
       "grid_template_rows": null,
       "height": null,
       "justify_content": null,
       "justify_items": null,
       "left": null,
       "margin": null,
       "max_height": null,
       "max_width": null,
       "min_height": null,
       "min_width": null,
       "object_fit": null,
       "object_position": null,
       "order": null,
       "overflow": null,
       "overflow_x": null,
       "overflow_y": null,
       "padding": null,
       "right": null,
       "top": null,
       "visibility": null,
       "width": null
      }
     },
     "b414fda8f8774e838fd78f3426b8fe03": {
      "model_module": "@jupyter-widgets/controls",
      "model_module_version": "1.5.0",
      "model_name": "FloatProgressModel",
      "state": {
       "_dom_classes": [],
       "_model_module": "@jupyter-widgets/controls",
       "_model_module_version": "1.5.0",
       "_model_name": "FloatProgressModel",
       "_view_count": null,
       "_view_module": "@jupyter-widgets/controls",
       "_view_module_version": "1.5.0",
       "_view_name": "ProgressView",
       "bar_style": "success",
       "description": "",
       "description_tooltip": null,
       "layout": "IPY_MODEL_733b20b8a30e40399b20f2010f6dbe76",
       "max": 14300,
       "min": 0,
       "orientation": "horizontal",
       "style": "IPY_MODEL_e18efa0ec0144b5d912eaad91e3f4437",
       "value": 14300
      }
     },
     "b53708bec46c4934974f4a03545ffc95": {
      "model_module": "@jupyter-widgets/base",
      "model_module_version": "1.2.0",
      "model_name": "LayoutModel",
      "state": {
       "_model_module": "@jupyter-widgets/base",
       "_model_module_version": "1.2.0",
       "_model_name": "LayoutModel",
       "_view_count": null,
       "_view_module": "@jupyter-widgets/base",
       "_view_module_version": "1.2.0",
       "_view_name": "LayoutView",
       "align_content": null,
       "align_items": null,
       "align_self": null,
       "border": null,
       "bottom": null,
       "display": null,
       "flex": null,
       "flex_flow": null,
       "grid_area": null,
       "grid_auto_columns": null,
       "grid_auto_flow": null,
       "grid_auto_rows": null,
       "grid_column": null,
       "grid_gap": null,
       "grid_row": null,
       "grid_template_areas": null,
       "grid_template_columns": null,
       "grid_template_rows": null,
       "height": null,
       "justify_content": null,
       "justify_items": null,
       "left": null,
       "margin": null,
       "max_height": null,
       "max_width": null,
       "min_height": null,
       "min_width": null,
       "object_fit": null,
       "object_position": null,
       "order": null,
       "overflow": null,
       "overflow_x": null,
       "overflow_y": null,
       "padding": null,
       "right": null,
       "top": null,
       "visibility": null,
       "width": null
      }
     },
     "b61577fe5d0a412a923ad4ea5d4a4635": {
      "model_module": "@jupyter-widgets/controls",
      "model_module_version": "1.5.0",
      "model_name": "HBoxModel",
      "state": {
       "_dom_classes": [],
       "_model_module": "@jupyter-widgets/controls",
       "_model_module_version": "1.5.0",
       "_model_name": "HBoxModel",
       "_view_count": null,
       "_view_module": "@jupyter-widgets/controls",
       "_view_module_version": "1.5.0",
       "_view_name": "HBoxView",
       "box_style": "",
       "children": [
        "IPY_MODEL_65d8521bc16346fcaf9fda4ecc681c88",
        "IPY_MODEL_b414fda8f8774e838fd78f3426b8fe03",
        "IPY_MODEL_d64206a915774235b9b177d55d1eb545"
       ],
       "layout": "IPY_MODEL_7031c57c2d8e4ad7b14641c7305ddc51"
      }
     },
     "b721182b01604614b393b738e04f39ab": {
      "model_module": "@jupyter-widgets/base",
      "model_module_version": "1.2.0",
      "model_name": "LayoutModel",
      "state": {
       "_model_module": "@jupyter-widgets/base",
       "_model_module_version": "1.2.0",
       "_model_name": "LayoutModel",
       "_view_count": null,
       "_view_module": "@jupyter-widgets/base",
       "_view_module_version": "1.2.0",
       "_view_name": "LayoutView",
       "align_content": null,
       "align_items": null,
       "align_self": null,
       "border": null,
       "bottom": null,
       "display": null,
       "flex": null,
       "flex_flow": null,
       "grid_area": null,
       "grid_auto_columns": null,
       "grid_auto_flow": null,
       "grid_auto_rows": null,
       "grid_column": null,
       "grid_gap": null,
       "grid_row": null,
       "grid_template_areas": null,
       "grid_template_columns": null,
       "grid_template_rows": null,
       "height": null,
       "justify_content": null,
       "justify_items": null,
       "left": null,
       "margin": null,
       "max_height": null,
       "max_width": null,
       "min_height": null,
       "min_width": null,
       "object_fit": null,
       "object_position": null,
       "order": null,
       "overflow": null,
       "overflow_x": null,
       "overflow_y": null,
       "padding": null,
       "right": null,
       "top": null,
       "visibility": null,
       "width": null
      }
     },
     "b81d63a1ccd845e1bc3ff7fe33587f83": {
      "model_module": "@jupyter-widgets/base",
      "model_module_version": "1.2.0",
      "model_name": "LayoutModel",
      "state": {
       "_model_module": "@jupyter-widgets/base",
       "_model_module_version": "1.2.0",
       "_model_name": "LayoutModel",
       "_view_count": null,
       "_view_module": "@jupyter-widgets/base",
       "_view_module_version": "1.2.0",
       "_view_name": "LayoutView",
       "align_content": null,
       "align_items": null,
       "align_self": null,
       "border": null,
       "bottom": null,
       "display": null,
       "flex": null,
       "flex_flow": null,
       "grid_area": null,
       "grid_auto_columns": null,
       "grid_auto_flow": null,
       "grid_auto_rows": null,
       "grid_column": null,
       "grid_gap": null,
       "grid_row": null,
       "grid_template_areas": null,
       "grid_template_columns": null,
       "grid_template_rows": null,
       "height": null,
       "justify_content": null,
       "justify_items": null,
       "left": null,
       "margin": null,
       "max_height": null,
       "max_width": null,
       "min_height": null,
       "min_width": null,
       "object_fit": null,
       "object_position": null,
       "order": null,
       "overflow": null,
       "overflow_x": null,
       "overflow_y": null,
       "padding": null,
       "right": null,
       "top": null,
       "visibility": null,
       "width": null
      }
     },
     "b82ad43389a34845951922fab5980a61": {
      "model_module": "@jupyter-widgets/controls",
      "model_module_version": "1.5.0",
      "model_name": "HTMLModel",
      "state": {
       "_dom_classes": [],
       "_model_module": "@jupyter-widgets/controls",
       "_model_module_version": "1.5.0",
       "_model_name": "HTMLModel",
       "_view_count": null,
       "_view_module": "@jupyter-widgets/controls",
       "_view_module_version": "1.5.0",
       "_view_name": "HTMLView",
       "description": "",
       "description_tooltip": null,
       "layout": "IPY_MODEL_61fae5cffa7c4db78a1e92c2eaf6a479",
       "placeholder": "​",
       "style": "IPY_MODEL_1d19de9304da447686d6dad511b29171",
       "value": " 627M/627M [00:11&lt;00:00, 56.5MB/s]"
      }
     },
     "b86c17a98338436480bc338c13b1a41a": {
      "model_module": "@jupyter-widgets/base",
      "model_module_version": "1.2.0",
      "model_name": "LayoutModel",
      "state": {
       "_model_module": "@jupyter-widgets/base",
       "_model_module_version": "1.2.0",
       "_model_name": "LayoutModel",
       "_view_count": null,
       "_view_module": "@jupyter-widgets/base",
       "_view_module_version": "1.2.0",
       "_view_name": "LayoutView",
       "align_content": null,
       "align_items": null,
       "align_self": null,
       "border": null,
       "bottom": null,
       "display": null,
       "flex": null,
       "flex_flow": null,
       "grid_area": null,
       "grid_auto_columns": null,
       "grid_auto_flow": null,
       "grid_auto_rows": null,
       "grid_column": null,
       "grid_gap": null,
       "grid_row": null,
       "grid_template_areas": null,
       "grid_template_columns": null,
       "grid_template_rows": null,
       "height": null,
       "justify_content": null,
       "justify_items": null,
       "left": null,
       "margin": null,
       "max_height": null,
       "max_width": null,
       "min_height": null,
       "min_width": null,
       "object_fit": null,
       "object_position": null,
       "order": null,
       "overflow": null,
       "overflow_x": null,
       "overflow_y": null,
       "padding": null,
       "right": null,
       "top": null,
       "visibility": null,
       "width": null
      }
     },
     "c1a4d0bac8af418baffb8a170e692176": {
      "model_module": "@jupyter-widgets/controls",
      "model_module_version": "1.5.0",
      "model_name": "DescriptionStyleModel",
      "state": {
       "_model_module": "@jupyter-widgets/controls",
       "_model_module_version": "1.5.0",
       "_model_name": "DescriptionStyleModel",
       "_view_count": null,
       "_view_module": "@jupyter-widgets/base",
       "_view_module_version": "1.2.0",
       "_view_name": "StyleView",
       "description_width": ""
      }
     },
     "c6458fb3fb68420f9a54b37f20e32875": {
      "model_module": "@jupyter-widgets/base",
      "model_module_version": "1.2.0",
      "model_name": "LayoutModel",
      "state": {
       "_model_module": "@jupyter-widgets/base",
       "_model_module_version": "1.2.0",
       "_model_name": "LayoutModel",
       "_view_count": null,
       "_view_module": "@jupyter-widgets/base",
       "_view_module_version": "1.2.0",
       "_view_name": "LayoutView",
       "align_content": null,
       "align_items": null,
       "align_self": null,
       "border": null,
       "bottom": null,
       "display": null,
       "flex": null,
       "flex_flow": null,
       "grid_area": null,
       "grid_auto_columns": null,
       "grid_auto_flow": null,
       "grid_auto_rows": null,
       "grid_column": null,
       "grid_gap": null,
       "grid_row": null,
       "grid_template_areas": null,
       "grid_template_columns": null,
       "grid_template_rows": null,
       "height": null,
       "justify_content": null,
       "justify_items": null,
       "left": null,
       "margin": null,
       "max_height": null,
       "max_width": null,
       "min_height": null,
       "min_width": null,
       "object_fit": null,
       "object_position": null,
       "order": null,
       "overflow": null,
       "overflow_x": null,
       "overflow_y": null,
       "padding": null,
       "right": null,
       "top": null,
       "visibility": null,
       "width": null
      }
     },
     "ca48e6c01b554ac18a0ed93d547c6aa4": {
      "model_module": "@jupyter-widgets/controls",
      "model_module_version": "1.5.0",
      "model_name": "ProgressStyleModel",
      "state": {
       "_model_module": "@jupyter-widgets/controls",
       "_model_module_version": "1.5.0",
       "_model_name": "ProgressStyleModel",
       "_view_count": null,
       "_view_module": "@jupyter-widgets/base",
       "_view_module_version": "1.2.0",
       "_view_name": "StyleView",
       "bar_color": null,
       "description_width": ""
      }
     },
     "ca65b7c9986d4fc1a9c8e6ec0f19060f": {
      "model_module": "@jupyter-widgets/controls",
      "model_module_version": "1.5.0",
      "model_name": "HBoxModel",
      "state": {
       "_dom_classes": [],
       "_model_module": "@jupyter-widgets/controls",
       "_model_module_version": "1.5.0",
       "_model_name": "HBoxModel",
       "_view_count": null,
       "_view_module": "@jupyter-widgets/controls",
       "_view_module_version": "1.5.0",
       "_view_name": "HBoxView",
       "box_style": "",
       "children": [
        "IPY_MODEL_db5e1dd9ac6349a4a3c4ca0011c519ff",
        "IPY_MODEL_e0778f9a30ba44339c7663d7bedaab72",
        "IPY_MODEL_9aa07f4ece154dfda2a3223d22c283aa"
       ],
       "layout": "IPY_MODEL_ce31d097b06a40b29accb1db69f87222"
      }
     },
     "cab77788fa444a6591c3d84f7c08c217": {
      "model_module": "@jupyter-widgets/controls",
      "model_module_version": "1.5.0",
      "model_name": "HBoxModel",
      "state": {
       "_dom_classes": [],
       "_model_module": "@jupyter-widgets/controls",
       "_model_module_version": "1.5.0",
       "_model_name": "HBoxModel",
       "_view_count": null,
       "_view_module": "@jupyter-widgets/controls",
       "_view_module_version": "1.5.0",
       "_view_name": "HBoxView",
       "box_style": "",
       "children": [
        "IPY_MODEL_5626891e9fc1411690cf7f34f5d70dc7",
        "IPY_MODEL_2e7507d0b61e47c19400ef85dc8a3992",
        "IPY_MODEL_4e4d19571a4147738b43f70290ff0cf3"
       ],
       "layout": "IPY_MODEL_b721182b01604614b393b738e04f39ab"
      }
     },
     "cac00bc7d815455b8186cdfbeefd8e85": {
      "model_module": "@jupyter-widgets/controls",
      "model_module_version": "1.5.0",
      "model_name": "DescriptionStyleModel",
      "state": {
       "_model_module": "@jupyter-widgets/controls",
       "_model_module_version": "1.5.0",
       "_model_name": "DescriptionStyleModel",
       "_view_count": null,
       "_view_module": "@jupyter-widgets/base",
       "_view_module_version": "1.2.0",
       "_view_name": "StyleView",
       "description_width": ""
      }
     },
     "ce31d097b06a40b29accb1db69f87222": {
      "model_module": "@jupyter-widgets/base",
      "model_module_version": "1.2.0",
      "model_name": "LayoutModel",
      "state": {
       "_model_module": "@jupyter-widgets/base",
       "_model_module_version": "1.2.0",
       "_model_name": "LayoutModel",
       "_view_count": null,
       "_view_module": "@jupyter-widgets/base",
       "_view_module_version": "1.2.0",
       "_view_name": "LayoutView",
       "align_content": null,
       "align_items": null,
       "align_self": null,
       "border": null,
       "bottom": null,
       "display": null,
       "flex": null,
       "flex_flow": null,
       "grid_area": null,
       "grid_auto_columns": null,
       "grid_auto_flow": null,
       "grid_auto_rows": null,
       "grid_column": null,
       "grid_gap": null,
       "grid_row": null,
       "grid_template_areas": null,
       "grid_template_columns": null,
       "grid_template_rows": null,
       "height": null,
       "justify_content": null,
       "justify_items": null,
       "left": null,
       "margin": null,
       "max_height": null,
       "max_width": null,
       "min_height": null,
       "min_width": null,
       "object_fit": null,
       "object_position": null,
       "order": null,
       "overflow": null,
       "overflow_x": null,
       "overflow_y": null,
       "padding": null,
       "right": null,
       "top": null,
       "visibility": null,
       "width": null
      }
     },
     "d17ddbd074f845e5a28b3089a9aae754": {
      "model_module": "@jupyter-widgets/base",
      "model_module_version": "1.2.0",
      "model_name": "LayoutModel",
      "state": {
       "_model_module": "@jupyter-widgets/base",
       "_model_module_version": "1.2.0",
       "_model_name": "LayoutModel",
       "_view_count": null,
       "_view_module": "@jupyter-widgets/base",
       "_view_module_version": "1.2.0",
       "_view_name": "LayoutView",
       "align_content": null,
       "align_items": null,
       "align_self": null,
       "border": null,
       "bottom": null,
       "display": null,
       "flex": null,
       "flex_flow": null,
       "grid_area": null,
       "grid_auto_columns": null,
       "grid_auto_flow": null,
       "grid_auto_rows": null,
       "grid_column": null,
       "grid_gap": null,
       "grid_row": null,
       "grid_template_areas": null,
       "grid_template_columns": null,
       "grid_template_rows": null,
       "height": null,
       "justify_content": null,
       "justify_items": null,
       "left": null,
       "margin": null,
       "max_height": null,
       "max_width": null,
       "min_height": null,
       "min_width": null,
       "object_fit": null,
       "object_position": null,
       "order": null,
       "overflow": null,
       "overflow_x": null,
       "overflow_y": null,
       "padding": null,
       "right": null,
       "top": null,
       "visibility": null,
       "width": null
      }
     },
     "d64206a915774235b9b177d55d1eb545": {
      "model_module": "@jupyter-widgets/controls",
      "model_module_version": "1.5.0",
      "model_name": "HTMLModel",
      "state": {
       "_dom_classes": [],
       "_model_module": "@jupyter-widgets/controls",
       "_model_module_version": "1.5.0",
       "_model_name": "HTMLModel",
       "_view_count": null,
       "_view_module": "@jupyter-widgets/controls",
       "_view_module_version": "1.5.0",
       "_view_name": "HTMLView",
       "description": "",
       "description_tooltip": null,
       "layout": "IPY_MODEL_d81b9e788e3241fb89a1367f3f239e54",
       "placeholder": "​",
       "style": "IPY_MODEL_6b46bb6bb4664e948c7bb370e972b200",
       "value": " 14300/14300 [00:07&lt;00:00, 2138.84it/s]"
      }
     },
     "d81b9e788e3241fb89a1367f3f239e54": {
      "model_module": "@jupyter-widgets/base",
      "model_module_version": "1.2.0",
      "model_name": "LayoutModel",
      "state": {
       "_model_module": "@jupyter-widgets/base",
       "_model_module_version": "1.2.0",
       "_model_name": "LayoutModel",
       "_view_count": null,
       "_view_module": "@jupyter-widgets/base",
       "_view_module_version": "1.2.0",
       "_view_name": "LayoutView",
       "align_content": null,
       "align_items": null,
       "align_self": null,
       "border": null,
       "bottom": null,
       "display": null,
       "flex": null,
       "flex_flow": null,
       "grid_area": null,
       "grid_auto_columns": null,
       "grid_auto_flow": null,
       "grid_auto_rows": null,
       "grid_column": null,
       "grid_gap": null,
       "grid_row": null,
       "grid_template_areas": null,
       "grid_template_columns": null,
       "grid_template_rows": null,
       "height": null,
       "justify_content": null,
       "justify_items": null,
       "left": null,
       "margin": null,
       "max_height": null,
       "max_width": null,
       "min_height": null,
       "min_width": null,
       "object_fit": null,
       "object_position": null,
       "order": null,
       "overflow": null,
       "overflow_x": null,
       "overflow_y": null,
       "padding": null,
       "right": null,
       "top": null,
       "visibility": null,
       "width": null
      }
     },
     "db5e1dd9ac6349a4a3c4ca0011c519ff": {
      "model_module": "@jupyter-widgets/controls",
      "model_module_version": "1.5.0",
      "model_name": "HTMLModel",
      "state": {
       "_dom_classes": [],
       "_model_module": "@jupyter-widgets/controls",
       "_model_module_version": "1.5.0",
       "_model_name": "HTMLModel",
       "_view_count": null,
       "_view_module": "@jupyter-widgets/controls",
       "_view_module_version": "1.5.0",
       "_view_name": "HTMLView",
       "description": "",
       "description_tooltip": null,
       "layout": "IPY_MODEL_41737c36527e4c59b1bc41309c578c56",
       "placeholder": "​",
       "style": "IPY_MODEL_7170df0867b24cfeae4b2418e5861002",
       "value": "Downloading: 100%"
      }
     },
     "dc48e68838114b1b881ec380b1d48981": {
      "model_module": "@jupyter-widgets/controls",
      "model_module_version": "1.5.0",
      "model_name": "DescriptionStyleModel",
      "state": {
       "_model_module": "@jupyter-widgets/controls",
       "_model_module_version": "1.5.0",
       "_model_name": "DescriptionStyleModel",
       "_view_count": null,
       "_view_module": "@jupyter-widgets/base",
       "_view_module_version": "1.2.0",
       "_view_name": "StyleView",
       "description_width": ""
      }
     },
     "e0422f819f13408b984dbf73ebc52c26": {
      "model_module": "@jupyter-widgets/controls",
      "model_module_version": "1.5.0",
      "model_name": "HTMLModel",
      "state": {
       "_dom_classes": [],
       "_model_module": "@jupyter-widgets/controls",
       "_model_module_version": "1.5.0",
       "_model_name": "HTMLModel",
       "_view_count": null,
       "_view_module": "@jupyter-widgets/controls",
       "_view_module_version": "1.5.0",
       "_view_name": "HTMLView",
       "description": "",
       "description_tooltip": null,
       "layout": "IPY_MODEL_73258313283d4f3d91269563dab398a6",
       "placeholder": "​",
       "style": "IPY_MODEL_61a216119f0c4ecbafca738558091b56",
       "value": "Downloading: 100%"
      }
     },
     "e0778f9a30ba44339c7663d7bedaab72": {
      "model_module": "@jupyter-widgets/controls",
      "model_module_version": "1.5.0",
      "model_name": "FloatProgressModel",
      "state": {
       "_dom_classes": [],
       "_model_module": "@jupyter-widgets/controls",
       "_model_module_version": "1.5.0",
       "_model_name": "FloatProgressModel",
       "_view_count": null,
       "_view_module": "@jupyter-widgets/controls",
       "_view_module_version": "1.5.0",
       "_view_name": "ProgressView",
       "bar_style": "success",
       "description": "",
       "description_tooltip": null,
       "layout": "IPY_MODEL_88ade91d8dac402f951720cc58affc21",
       "max": 1355863,
       "min": 0,
       "orientation": "horizontal",
       "style": "IPY_MODEL_27ca145ba8da49439b86e84c5abcd9c5",
       "value": 1355863
      }
     },
     "e18efa0ec0144b5d912eaad91e3f4437": {
      "model_module": "@jupyter-widgets/controls",
      "model_module_version": "1.5.0",
      "model_name": "ProgressStyleModel",
      "state": {
       "_model_module": "@jupyter-widgets/controls",
       "_model_module_version": "1.5.0",
       "_model_name": "ProgressStyleModel",
       "_view_count": null,
       "_view_module": "@jupyter-widgets/base",
       "_view_module_version": "1.2.0",
       "_view_name": "StyleView",
       "bar_color": null,
       "description_width": ""
      }
     },
     "e69b2a9884dd4fdebe6d2537995a1655": {
      "model_module": "@jupyter-widgets/controls",
      "model_module_version": "1.5.0",
      "model_name": "HTMLModel",
      "state": {
       "_dom_classes": [],
       "_model_module": "@jupyter-widgets/controls",
       "_model_module_version": "1.5.0",
       "_model_name": "HTMLModel",
       "_view_count": null,
       "_view_module": "@jupyter-widgets/controls",
       "_view_module_version": "1.5.0",
       "_view_name": "HTMLView",
       "description": "",
       "description_tooltip": null,
       "layout": "IPY_MODEL_b86c17a98338436480bc338c13b1a41a",
       "placeholder": "​",
       "style": "IPY_MODEL_299b3d9ddd1f4ac79a178ff4de674833",
       "value": "Downloading: 100%"
      }
     },
     "e80f9cb78d2e456696aa83e2e38f96c9": {
      "model_module": "@jupyter-widgets/base",
      "model_module_version": "1.2.0",
      "model_name": "LayoutModel",
      "state": {
       "_model_module": "@jupyter-widgets/base",
       "_model_module_version": "1.2.0",
       "_model_name": "LayoutModel",
       "_view_count": null,
       "_view_module": "@jupyter-widgets/base",
       "_view_module_version": "1.2.0",
       "_view_name": "LayoutView",
       "align_content": null,
       "align_items": null,
       "align_self": null,
       "border": null,
       "bottom": null,
       "display": null,
       "flex": null,
       "flex_flow": null,
       "grid_area": null,
       "grid_auto_columns": null,
       "grid_auto_flow": null,
       "grid_auto_rows": null,
       "grid_column": null,
       "grid_gap": null,
       "grid_row": null,
       "grid_template_areas": null,
       "grid_template_columns": null,
       "grid_template_rows": null,
       "height": null,
       "justify_content": null,
       "justify_items": null,
       "left": null,
       "margin": null,
       "max_height": null,
       "max_width": null,
       "min_height": null,
       "min_width": null,
       "object_fit": null,
       "object_position": null,
       "order": null,
       "overflow": null,
       "overflow_x": null,
       "overflow_y": null,
       "padding": null,
       "right": null,
       "top": null,
       "visibility": null,
       "width": null
      }
     },
     "f18937cd0d55416cb8196c0dceffe754": {
      "model_module": "@jupyter-widgets/base",
      "model_module_version": "1.2.0",
      "model_name": "LayoutModel",
      "state": {
       "_model_module": "@jupyter-widgets/base",
       "_model_module_version": "1.2.0",
       "_model_name": "LayoutModel",
       "_view_count": null,
       "_view_module": "@jupyter-widgets/base",
       "_view_module_version": "1.2.0",
       "_view_name": "LayoutView",
       "align_content": null,
       "align_items": null,
       "align_self": null,
       "border": null,
       "bottom": null,
       "display": null,
       "flex": null,
       "flex_flow": null,
       "grid_area": null,
       "grid_auto_columns": null,
       "grid_auto_flow": null,
       "grid_auto_rows": null,
       "grid_column": null,
       "grid_gap": null,
       "grid_row": null,
       "grid_template_areas": null,
       "grid_template_columns": null,
       "grid_template_rows": null,
       "height": null,
       "justify_content": null,
       "justify_items": null,
       "left": null,
       "margin": null,
       "max_height": null,
       "max_width": null,
       "min_height": null,
       "min_width": null,
       "object_fit": null,
       "object_position": null,
       "order": null,
       "overflow": null,
       "overflow_x": null,
       "overflow_y": null,
       "padding": null,
       "right": null,
       "top": null,
       "visibility": null,
       "width": null
      }
     },
     "fd086755a7324814ae7f73111cd18664": {
      "model_module": "@jupyter-widgets/controls",
      "model_module_version": "1.5.0",
      "model_name": "HTMLModel",
      "state": {
       "_dom_classes": [],
       "_model_module": "@jupyter-widgets/controls",
       "_model_module_version": "1.5.0",
       "_model_name": "HTMLModel",
       "_view_count": null,
       "_view_module": "@jupyter-widgets/controls",
       "_view_module_version": "1.5.0",
       "_view_name": "HTMLView",
       "description": "",
       "description_tooltip": null,
       "layout": "IPY_MODEL_b81d63a1ccd845e1bc3ff7fe33587f83",
       "placeholder": "​",
       "style": "IPY_MODEL_dc48e68838114b1b881ec380b1d48981",
       "value": "100%"
      }
     },
     "ff5e6db33eab47149363cf288b0f81fb": {
      "model_module": "@jupyter-widgets/base",
      "model_module_version": "1.2.0",
      "model_name": "LayoutModel",
      "state": {
       "_model_module": "@jupyter-widgets/base",
       "_model_module_version": "1.2.0",
       "_model_name": "LayoutModel",
       "_view_count": null,
       "_view_module": "@jupyter-widgets/base",
       "_view_module_version": "1.2.0",
       "_view_name": "LayoutView",
       "align_content": null,
       "align_items": null,
       "align_self": null,
       "border": null,
       "bottom": null,
       "display": null,
       "flex": null,
       "flex_flow": null,
       "grid_area": null,
       "grid_auto_columns": null,
       "grid_auto_flow": null,
       "grid_auto_rows": null,
       "grid_column": null,
       "grid_gap": null,
       "grid_row": null,
       "grid_template_areas": null,
       "grid_template_columns": null,
       "grid_template_rows": null,
       "height": null,
       "justify_content": null,
       "justify_items": null,
       "left": null,
       "margin": null,
       "max_height": null,
       "max_width": null,
       "min_height": null,
       "min_width": null,
       "object_fit": null,
       "object_position": null,
       "order": null,
       "overflow": null,
       "overflow_x": null,
       "overflow_y": null,
       "padding": null,
       "right": null,
       "top": null,
       "visibility": null,
       "width": null
      }
     }
    },
    "version_major": 2,
    "version_minor": 0
   }
  }
 },
 "nbformat": 4,
 "nbformat_minor": 5
}
